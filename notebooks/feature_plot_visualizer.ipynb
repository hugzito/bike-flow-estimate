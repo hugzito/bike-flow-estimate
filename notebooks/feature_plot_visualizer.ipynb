{
 "cells": [
  {
   "cell_type": "code",
   "execution_count": null,
   "id": "47ad1504",
   "metadata": {},
   "outputs": [],
   "source": [
    "import sys\n",
    "sys.path.append(\"../scripts\")\n",
    "\n",
    "import os, torch\n",
    "from sklearn.model_selection import train_test_split\n",
    "import pickle\n",
    "import torch_geometric.transforms as T\n",
    "import numpy as np\n",
    "from torch_geometric.nn.models import Node2Vec\n",
    "from torch_geometric.data import DataLoader\n",
    "from torch_geometric.nn import MessagePassing\n",
    "from torch_geometric.data import Data\n",
    "from torch.nn import Linear\n",
    "import torch.nn.functional as F\n",
    "from torch_geometric.nn import GCNConv, GATConv\n",
    "GCNConv._orig_propagate = GCNConv.propagate\n",
    "import matplotlib.pyplot as plt\n",
    "from sklearn.preprocessing import StandardScaler\n",
    "from torch_geometric.explain import GNNExplainer, Explainer\n",
    "# from models import *\n",
    "# from tg_functions import *\n",
    "# from bike_functions import *\n",
    "import pandas as pd\n",
    "import seaborn as sns\n",
    "\n",
    "\n",
    "feature_sets = [\n",
    "    17, \n",
    "    21,\n",
    "    23,\n",
    "    24,\n",
    "    26,\n",
    "    27,\n",
    "]\n",
    "\n",
    "def read_feats(feature_sets):\n",
    "    # Dictionary to track feature presence\n",
    "    feature_presence = {}\n",
    "\n",
    "    for idx, set_id in enumerate(feature_sets):\n",
    "        cols = pd.read_csv(f'../data/graphs/{set_id}/node_features.csv').columns\n",
    "        if 'aadt' in cols:\n",
    "            cols = cols.drop('aadt')\n",
    "        if 'AADT' in cols:\n",
    "            cols = cols.drop('AADT')\n",
    "        if 'osmid' in cols:\n",
    "            cols = cols.drop('osmid')\n",
    "        print(f\"Feature set {set_id} has {len(cols)} features\")\n",
    "        for feat in cols:\n",
    "            if feat not in feature_presence:\n",
    "                feature_presence[feat] = [False] * len(feature_sets)\n",
    "            feature_presence[feat][idx] = True\n",
    "\n",
    "    # Convert to DataFrame\n",
    "    df = pd.DataFrame.from_dict(feature_presence, orient='index', columns=[f'F{i}' for i in feature_sets])\n",
    "    df.index.name = 'feature'\n",
    "    df = df.reset_index()\n",
    "    return df\n",
    "\n",
    "df = read_feats(feature_sets)"
   ]
  },
  {
   "cell_type": "code",
   "execution_count": null,
   "id": "0af0a518",
   "metadata": {},
   "outputs": [],
   "source": [
    "df.to_csv('../data/feature_presence.csv', index=False)"
   ]
  },
  {
   "cell_type": "code",
   "execution_count": null,
   "id": "af32389a",
   "metadata": {},
   "outputs": [],
   "source": []
  }
 ],
 "metadata": {
  "kernelspec": {
   "display_name": "Python 3",
   "language": "python",
   "name": "python3"
  },
  "language_info": {
   "codemirror_mode": {
    "name": "ipython",
    "version": 3
   },
   "file_extension": ".py",
   "mimetype": "text/x-python",
   "name": "python",
   "nbconvert_exporter": "python",
   "pygments_lexer": "ipython3",
   "version": "3.9.21"
  }
 },
 "nbformat": 4,
 "nbformat_minor": 5
}
