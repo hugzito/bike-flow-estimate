{
 "cells": [
  {
   "cell_type": "code",
   "execution_count": 1,
   "id": "07b78ca5",
   "metadata": {},
   "outputs": [
    {
     "name": "stdout",
     "output_type": "stream",
     "text": [
      "Using CPU\n"
     ]
    }
   ],
   "source": [
    "import sys\n",
    "sys.path.append(\"../scripts\")\n",
    "\n",
    "import os, torch\n",
    "from sklearn.model_selection import train_test_split\n",
    "import pickle\n",
    "import torch_geometric.transforms as T\n",
    "import numpy as np\n",
    "from torch_geometric.nn.models import Node2Vec\n",
    "from torch_geometric.data import DataLoader\n",
    "from torch_geometric.nn import MessagePassing\n",
    "from torch_geometric.data import Data\n",
    "from torch.nn import Linear\n",
    "import torch.nn.functional as F\n",
    "from torch_geometric.nn import GCNConv, GATConv\n",
    "GCNConv._orig_propagate = GCNConv.propagate\n",
    "import matplotlib.pyplot as plt\n",
    "from sklearn.preprocessing import StandardScaler\n",
    "from torch_geometric.explain import GNNExplainer, Explainer\n",
    "from models import *\n",
    "from tg_functions import *\n",
    "from bike_functions import *\n",
    "import pandas as pd\n",
    "\n",
    "dropout_p = 0.5\n",
    "use_gat = True\n",
    "bins = [int(i) for i in os.getenv(\"BINS\", \"400 800 1300 2100 3000 3700 4700 7020 9660\").split(' ')]\n",
    "# bins = [int(i) for i in os.getenv(\"BINS\", \"3000\").split(' ')]\n",
    "\n",
    "bins = torch.tensor(bins, device='cuda' if torch.cuda.is_available() else 'cpu')\n",
    "# bins = 'regression'\n",
    "hidden_c = 200\n",
    "num_layers = 0\n",
    "random_seed = 100\n",
    "nh = 1\n",
    "\n",
    "graph_num = 17  # Replace with your graph number\n",
    "\n",
    "model_name = 'rich-sun-141' # Replace with your model name\n",
    "\n",
    "weight_prefix = 'best_accuracy'  # Replace with your weight prefix\n",
    "\n",
    "\n",
    "if torch.cuda.is_available():\n",
    "    device = torch.device('cuda')\n",
    "    print(f\"Using CUDA device: {torch.cuda.get_device_name(0)}\", flush = True)\n",
    "else:\n",
    "    device = torch.device('cpu')\n",
    "    print(\"Using CPU\", flush = True)\n",
    "\n",
    "# device = 'cpu'\n",
    "\n",
    "with open(f'../data/graphs/{graph_num}/linegraph_tg.pkl', 'rb') as f:\n",
    "    data = pickle.load(f)\n",
    "\n",
    "data.edge_index = data.edge_index.contiguous()\n",
    "data.x = data.x.contiguous()\n",
    "data.y = data.y.contiguous()\n",
    "\n",
    "data = stratified_split(data = data , random_seed = random_seed)\n",
    "\n",
    "# --- Model Instantiation ---\n",
    "model = GAT(hidden_c, num_layers, random_seed, bins, data, nh).to(device) if use_gat else GCN(hidden_c, num_layers, random_seed, bins, data).to(device)\n",
    "\n",
    "if use_gat == 'MLP':\n",
    "    model = MLP(hidden_c, num_layers, random_seed, bins, data, nh).to(device)\n",
    "\n",
    "# Load the model with the GCN class\n",
    "model = torch.load(f'../data/graphs/{graph_num}/models/{model_name}.pt', map_location=device)\n",
    "model = model.to(device)\n",
    "\n",
    "model.load_state_dict(torch.load(f'../data/graphs/{graph_num}/models/{model_name}_{weight_prefix}.pt', map_location=device))\n",
    "\n",
    "criterion = torch.nn.CrossEntropyLoss()\n"
   ]
  },
  {
   "cell_type": "code",
   "execution_count": 2,
   "id": "ee392b3a",
   "metadata": {},
   "outputs": [
    {
     "name": "stdout",
     "output_type": "stream",
     "text": [
      "torch.Size([78168, 31]) torch.Size([2, 152596]) torch.Size([78168])\n"
     ]
    }
   ],
   "source": [
    "data.edge_index = data.edge_index.contiguous()\n",
    "data.x = data.x.contiguous()\n",
    "data.y = data.y.contiguous()\n",
    "print(data.x.shape, data.edge_index.shape, data.y.shape, flush = True)\n",
    "data = stratified_split(data)\n",
    "criterion = torch.nn.CrossEntropyLoss()\n",
    "\n",
    "test(model, data, criterion, device, bins)[0]\n",
    "from torch_geometric.explain import GNNExplainer, Explainer\n",
    "\n",
    "explainer = Explainer(\n",
    "    model=model,\n",
    "    algorithm=GNNExplainer(epochs=1),\n",
    "    explanation_type='model',\n",
    "    node_mask_type='attributes',\n",
    "    edge_mask_type=None,\n",
    "    model_config=dict(\n",
    "        mode='multiclass_classification',\n",
    "        task_level='node',\n",
    "        return_type='log_probs',\n",
    "    ),\n",
    ")"
   ]
  },
  {
   "cell_type": "code",
   "execution_count": 55,
   "id": "5e1cc7ef",
   "metadata": {},
   "outputs": [
    {
     "name": "stdout",
     "output_type": "stream",
     "text": [
      "Node index for explanation: 18912\n"
     ]
    }
   ],
   "source": [
    "mask = data.val_mask.squeeze() & (data.y > 0).squeeze()\n",
    "node_idx = 10\n",
    "node_idx = torch.where(mask)[0][node_idx].item()  # Get the first node index where mask is True\n",
    "print(f\"Node index for explanation: {node_idx}\", flush=True)\n",
    "explanation = explainer(data.x, data.edge_index, index=node_idx)\n"
   ]
  },
  {
   "cell_type": "code",
   "execution_count": null,
   "id": "1044ba51",
   "metadata": {},
   "outputs": [],
   "source": [
    "explainer.vis"
   ]
  },
  {
   "cell_type": "code",
   "execution_count": 66,
   "id": "f44a0487",
   "metadata": {},
   "outputs": [],
   "source": [
    "feature_names = pd.read_csv(f'../data/graphs/{graph_num}/node_features.csv').columns.tolist()\n",
    "\n",
    "tick_dict = {i: feature_names[i] for i in range(len(feature_names))}\n",
    "# fig , ax = plt.subplots()\n",
    "### plot the feature importance\n",
    "node_mask = explanation.node_mask.squeeze()\n"
   ]
  },
  {
   "cell_type": "code",
   "execution_count": 67,
   "id": "d21f0de6",
   "metadata": {},
   "outputs": [
    {
     "data": {
      "text/plain": [
       "tensor([[0., 0., 0.,  ..., 0., 0., 0.],\n",
       "        [0., 0., 0.,  ..., 0., 0., 0.],\n",
       "        [0., 0., 0.,  ..., 0., 0., 0.],\n",
       "        ...,\n",
       "        [0., 0., 0.,  ..., 0., 0., 0.],\n",
       "        [0., 0., 0.,  ..., 0., 0., 0.],\n",
       "        [0., 0., 0.,  ..., 0., 0., 0.]])"
      ]
     },
     "execution_count": 67,
     "metadata": {},
     "output_type": "execute_result"
    }
   ],
   "source": [
    "node_mask"
   ]
  },
  {
   "cell_type": "code",
   "execution_count": 24,
   "id": "5414fce3",
   "metadata": {},
   "outputs": [],
   "source": [
    "def get_node_neighborhood_subgraph(data: Data, node_idx: int):\n",
    "    \"\"\"\n",
    "    Returns the 1-hop neighborhood subgraph of a node, including:\n",
    "    - all neighbor nodes (including the center)\n",
    "    - all edges between these nodes\n",
    "\n",
    "    Parameters:\n",
    "    - data (torch_geometric.data.Data): PyG graph object\n",
    "    - node_idx (int): Index of the center node\n",
    "\n",
    "    Returns:\n",
    "    - sub_nodes (torch.Tensor): Tensor of node indices in the subgraph\n",
    "    - sub_edges (torch.Tensor): 2 x N tensor of edge indices in the subgraph\n",
    "    \"\"\"\n",
    "    src, dst = data.edge_index\n",
    "\n",
    "    # Step 1: Get direct neighbors\n",
    "    mask = (src == node_idx) | (dst == node_idx)\n",
    "    direct_edges = mask.nonzero(as_tuple=False).view(-1)\n",
    "    neighbor_nodes = torch.unique(torch.cat([src[direct_edges], dst[direct_edges], torch.tensor([node_idx], device=src.device)]))\n",
    "\n",
    "    # Step 2: Get all edges where both nodes are in neighbor_nodes\n",
    "    node_mask = torch.zeros(data.num_nodes, dtype=torch.bool, device=src.device)\n",
    "    node_mask[neighbor_nodes] = True\n",
    "    edge_in_subgraph = node_mask[src] & node_mask[dst]\n",
    "    sub_edges = data.edge_index[:, edge_in_subgraph]\n",
    "\n",
    "    return neighbor_nodes, sub_edges\n",
    "\n",
    "\n",
    "n_nodes, n_edges = get_node_neighborhood(data, node_idx)"
   ]
  },
  {
   "cell_type": "code",
   "execution_count": 33,
   "id": "41c20c99",
   "metadata": {},
   "outputs": [
    {
     "data": {
      "application/vnd.microsoft.datawrangler.viewer.v0+json": {
       "columns": [
        {
         "name": "index",
         "rawType": "object",
         "type": "string"
        },
        {
         "name": "lanes",
         "rawType": "float32",
         "type": "float"
        },
        {
         "name": "maxspeed",
         "rawType": "float32",
         "type": "float"
        },
        {
         "name": "oneway",
         "rawType": "float32",
         "type": "float"
        },
        {
         "name": "length",
         "rawType": "float32",
         "type": "float"
        },
        {
         "name": "bc",
         "rawType": "float32",
         "type": "float"
        },
        {
         "name": "public_transport",
         "rawType": "float32",
         "type": "float"
        },
        {
         "name": "place",
         "rawType": "float32",
         "type": "float"
        },
        {
         "name": "military",
         "rawType": "float32",
         "type": "float"
        },
        {
         "name": "healthcare",
         "rawType": "float32",
         "type": "float"
        },
        {
         "name": "power",
         "rawType": "float32",
         "type": "float"
        },
        {
         "name": "water",
         "rawType": "float32",
         "type": "float"
        }
       ],
       "ref": "b6d7ebc2-03e3-437b-a71d-b99e30785acc",
       "rows": [
        [
         "Node 18911",
         "2.0",
         "40.0",
         "0.0",
         "47.93236",
         "1.2258118e-07",
         "0.0",
         "3.0",
         "4.0",
         "0.0",
         "2.0",
         "0.0"
        ],
        [
         "Node 18912",
         "0.0",
         "40.0",
         "1.0",
         "94.69217",
         "1.6218685e-07",
         "1.0",
         "8.0",
         "4.0",
         "1.0",
         "0.0",
         "0.0"
        ],
        [
         "Node 25232",
         "0.0",
         "40.0",
         "1.0",
         "84.394104",
         "1.2650902e-07",
         "0.0",
         "3.0",
         "10.0",
         "0.0",
         "0.0",
         "1.0"
        ],
        [
         "Node 25233",
         "0.0",
         "50.0",
         "1.0",
         "128.80096",
         "7.6101806e-08",
         "0.0",
         "3.0",
         "11.0",
         "0.0",
         "0.0",
         "0.0"
        ],
        [
         "Node 77716",
         "2.0",
         "40.0",
         "0.0",
         "16.672379",
         "1.8771779e-07",
         "0.0",
         "0.0",
         "0.0",
         "0.0",
         "0.0",
         "0.0"
        ]
       ],
       "shape": {
        "columns": 11,
        "rows": 5
       }
      },
      "text/html": [
       "<div>\n",
       "<style scoped>\n",
       "    .dataframe tbody tr th:only-of-type {\n",
       "        vertical-align: middle;\n",
       "    }\n",
       "\n",
       "    .dataframe tbody tr th {\n",
       "        vertical-align: top;\n",
       "    }\n",
       "\n",
       "    .dataframe thead th {\n",
       "        text-align: right;\n",
       "    }\n",
       "</style>\n",
       "<table border=\"1\" class=\"dataframe\">\n",
       "  <thead>\n",
       "    <tr style=\"text-align: right;\">\n",
       "      <th></th>\n",
       "      <th>lanes</th>\n",
       "      <th>maxspeed</th>\n",
       "      <th>oneway</th>\n",
       "      <th>length</th>\n",
       "      <th>bc</th>\n",
       "      <th>public_transport</th>\n",
       "      <th>place</th>\n",
       "      <th>military</th>\n",
       "      <th>healthcare</th>\n",
       "      <th>power</th>\n",
       "      <th>water</th>\n",
       "    </tr>\n",
       "  </thead>\n",
       "  <tbody>\n",
       "    <tr>\n",
       "      <th>Node 18911</th>\n",
       "      <td>2.0</td>\n",
       "      <td>40.0</td>\n",
       "      <td>0.0</td>\n",
       "      <td>47.932362</td>\n",
       "      <td>1.225812e-07</td>\n",
       "      <td>0.0</td>\n",
       "      <td>3.0</td>\n",
       "      <td>4.0</td>\n",
       "      <td>0.0</td>\n",
       "      <td>2.0</td>\n",
       "      <td>0.0</td>\n",
       "    </tr>\n",
       "    <tr>\n",
       "      <th>Node 18912</th>\n",
       "      <td>0.0</td>\n",
       "      <td>40.0</td>\n",
       "      <td>1.0</td>\n",
       "      <td>94.692169</td>\n",
       "      <td>1.621869e-07</td>\n",
       "      <td>1.0</td>\n",
       "      <td>8.0</td>\n",
       "      <td>4.0</td>\n",
       "      <td>1.0</td>\n",
       "      <td>0.0</td>\n",
       "      <td>0.0</td>\n",
       "    </tr>\n",
       "    <tr>\n",
       "      <th>Node 25232</th>\n",
       "      <td>0.0</td>\n",
       "      <td>40.0</td>\n",
       "      <td>1.0</td>\n",
       "      <td>84.394104</td>\n",
       "      <td>1.265090e-07</td>\n",
       "      <td>0.0</td>\n",
       "      <td>3.0</td>\n",
       "      <td>10.0</td>\n",
       "      <td>0.0</td>\n",
       "      <td>0.0</td>\n",
       "      <td>1.0</td>\n",
       "    </tr>\n",
       "    <tr>\n",
       "      <th>Node 25233</th>\n",
       "      <td>0.0</td>\n",
       "      <td>50.0</td>\n",
       "      <td>1.0</td>\n",
       "      <td>128.800964</td>\n",
       "      <td>7.610181e-08</td>\n",
       "      <td>0.0</td>\n",
       "      <td>3.0</td>\n",
       "      <td>11.0</td>\n",
       "      <td>0.0</td>\n",
       "      <td>0.0</td>\n",
       "      <td>0.0</td>\n",
       "    </tr>\n",
       "    <tr>\n",
       "      <th>Node 77716</th>\n",
       "      <td>2.0</td>\n",
       "      <td>40.0</td>\n",
       "      <td>0.0</td>\n",
       "      <td>16.672379</td>\n",
       "      <td>1.877178e-07</td>\n",
       "      <td>0.0</td>\n",
       "      <td>0.0</td>\n",
       "      <td>0.0</td>\n",
       "      <td>0.0</td>\n",
       "      <td>0.0</td>\n",
       "      <td>0.0</td>\n",
       "    </tr>\n",
       "  </tbody>\n",
       "</table>\n",
       "</div>"
      ],
      "text/plain": [
       "            lanes  maxspeed  oneway      length            bc  \\\n",
       "Node 18911    2.0      40.0     0.0   47.932362  1.225812e-07   \n",
       "Node 18912    0.0      40.0     1.0   94.692169  1.621869e-07   \n",
       "Node 25232    0.0      40.0     1.0   84.394104  1.265090e-07   \n",
       "Node 25233    0.0      50.0     1.0  128.800964  7.610181e-08   \n",
       "Node 77716    2.0      40.0     0.0   16.672379  1.877178e-07   \n",
       "\n",
       "            public_transport  place  military  healthcare  power  water  \n",
       "Node 18911               0.0    3.0       4.0         0.0    2.0    0.0  \n",
       "Node 18912               1.0    8.0       4.0         1.0    0.0    0.0  \n",
       "Node 25232               0.0    3.0      10.0         0.0    0.0    1.0  \n",
       "Node 25233               0.0    3.0      11.0         0.0    0.0    0.0  \n",
       "Node 77716               0.0    0.0       0.0         0.0    0.0    0.0  "
      ]
     },
     "metadata": {},
     "output_type": "display_data"
    }
   ],
   "source": [
    "def show_labeled_x_features(data: Data, csv_path: str, node_indices: torch.Tensor):\n",
    "    \"\"\"\n",
    "    Displays selected rows from data.x with proper column names from CSV header.\n",
    "\n",
    "    Parameters:\n",
    "    - data (torch_geometric.data.Data): PyG graph object with `x` feature matrix.\n",
    "    - csv_path (str): Path to the CSV file with correct column names.\n",
    "    - node_indices (torch.Tensor): Node indices to extract and display features for.\n",
    "    \"\"\"\n",
    "    import pandas as pd\n",
    "\n",
    "    # Load column names only from CSV\n",
    "    col_names = pd.read_csv(csv_path, nrows=0).columns.tolist()\n",
    "\n",
    "    # Sanity check\n",
    "    assert data.x.size(1) == len(col_names), f\"Feature dim mismatch: data.x has {data.x.size(1)} features, but CSV has {len(col_names)} columns.\"\n",
    "\n",
    "    # Slice features\n",
    "    features = data.x[node_indices].cpu().numpy()\n",
    "\n",
    "    # Create dataframe\n",
    "    df = pd.DataFrame(features, columns=col_names, index=[f\"Node {i}\" for i in node_indices.tolist()])\n",
    "\n",
    "    # drop columns with all 0s\n",
    "    df = df.loc[:, (df != 0).any(axis=0)]\n",
    "    # Display the dataframe\n",
    "    display(df)\n",
    "\n",
    "show_labeled_x_features(data, '../data/graphs/17/node_features.csv', n_nodes)"
   ]
  },
  {
   "cell_type": "code",
   "execution_count": 30,
   "id": "c51ec4aa",
   "metadata": {},
   "outputs": [
    {
     "data": {
      "text/plain": [
       "tensor([18911, 18912, 25232, 25233, 77716])"
      ]
     },
     "execution_count": 30,
     "metadata": {},
     "output_type": "execute_result"
    }
   ],
   "source": [
    "n_nodes"
   ]
  },
  {
   "cell_type": "code",
   "execution_count": null,
   "id": "18f22f48",
   "metadata": {},
   "outputs": [],
   "source": [
    "def get_node_features(data: Data, node_indices: torch.Tensor) -> torch.Tensor:\n",
    "    \"\"\"\n",
    "    Returns feature matrix rows for the given node indices.\n",
    "\n",
    "    Parameters:\n",
    "    - data (torch_geometric.data.Data): PyG graph object\n",
    "    - node_indices (torch.Tensor): Node indices to extract features for\n",
    "\n",
    "    Returns:\n",
    "    - torch.Tensor: Features of the selected nodes\n",
    "    \"\"\"\n",
    "    return data.x[node_indices]\n",
    "\n",
    "node_features = get_node_features(data, n_nodes)\n",
    "\n"
   ]
  },
  {
   "cell_type": "code",
   "execution_count": 32,
   "id": "96b7ed0f",
   "metadata": {},
   "outputs": [
    {
     "ename": "KeyboardInterrupt",
     "evalue": "",
     "output_type": "error",
     "traceback": [
      "\u001b[31m---------------------------------------------------------------------------\u001b[39m",
      "\u001b[31mKeyboardInterrupt\u001b[39m                         Traceback (most recent call last)",
      "\u001b[36mCell\u001b[39m\u001b[36m \u001b[39m\u001b[32mIn[32]\u001b[39m\u001b[32m, line 31\u001b[39m\n\u001b[32m     28\u001b[39m     plt.title(\u001b[33m\"\u001b[39m\u001b[33mSubgraph Visualization\u001b[39m\u001b[33m\"\u001b[39m)\n\u001b[32m     29\u001b[39m     plt.show()\n\u001b[32m---> \u001b[39m\u001b[32m31\u001b[39m \u001b[43mvisualize_subgraph\u001b[49m\u001b[43m(\u001b[49m\u001b[43mdata\u001b[49m\u001b[43m,\u001b[49m\u001b[43m \u001b[49m\u001b[43mdata\u001b[49m\u001b[43m.\u001b[49m\u001b[43medge_index\u001b[49m\u001b[43m,\u001b[49m\u001b[43m \u001b[49m\u001b[43mhighlight_nodes\u001b[49m\u001b[43m=\u001b[49m\u001b[43mn_nodes\u001b[49m\u001b[43m)\u001b[49m\n",
      "\u001b[36mCell\u001b[39m\u001b[36m \u001b[39m\u001b[32mIn[32]\u001b[39m\u001b[32m, line 21\u001b[39m, in \u001b[36mvisualize_subgraph\u001b[39m\u001b[34m(data, edge_index, highlight_nodes)\u001b[39m\n\u001b[32m     18\u001b[39m G = to_networkx(sub_data, to_undirected=\u001b[38;5;28;01mTrue\u001b[39;00m)\n\u001b[32m     20\u001b[39m \u001b[38;5;66;03m# Draw with optional node highlighting\u001b[39;00m\n\u001b[32m---> \u001b[39m\u001b[32m21\u001b[39m pos = \u001b[43mnx\u001b[49m\u001b[43m.\u001b[49m\u001b[43mspring_layout\u001b[49m\u001b[43m(\u001b[49m\u001b[43mG\u001b[49m\u001b[43m,\u001b[49m\u001b[43m \u001b[49m\u001b[43mseed\u001b[49m\u001b[43m=\u001b[49m\u001b[32;43m42\u001b[39;49m\u001b[43m)\u001b[49m\n\u001b[32m     22\u001b[39m nx.draw(G, pos, with_labels=\u001b[38;5;28;01mTrue\u001b[39;00m, node_color=\u001b[33m'\u001b[39m\u001b[33mlightblue\u001b[39m\u001b[33m'\u001b[39m, edge_color=\u001b[33m'\u001b[39m\u001b[33mgray\u001b[39m\u001b[33m'\u001b[39m, node_size=\u001b[32m500\u001b[39m, font_size=\u001b[32m10\u001b[39m)\n\u001b[32m     24\u001b[39m \u001b[38;5;28;01mif\u001b[39;00m highlight_nodes \u001b[38;5;129;01mis\u001b[39;00m \u001b[38;5;129;01mnot\u001b[39;00m \u001b[38;5;28;01mNone\u001b[39;00m:\n",
      "\u001b[36mFile \u001b[39m\u001b[32m~/opt/miniconda3/envs/newpyg/lib/python3.11/site-packages/networkx/utils/decorators.py:788\u001b[39m, in \u001b[36margmap.__call__.<locals>.func\u001b[39m\u001b[34m(_argmap__wrapper, *args, **kwargs)\u001b[39m\n\u001b[32m    787\u001b[39m \u001b[38;5;28;01mdef\u001b[39;00m\u001b[38;5;250m \u001b[39m\u001b[34mfunc\u001b[39m(*args, __wrapper=\u001b[38;5;28;01mNone\u001b[39;00m, **kwargs):\n\u001b[32m--> \u001b[39m\u001b[32m788\u001b[39m     \u001b[38;5;28;01mreturn\u001b[39;00m \u001b[43margmap\u001b[49m\u001b[43m.\u001b[49m\u001b[43m_lazy_compile\u001b[49m\u001b[43m(\u001b[49m\u001b[43m__wrapper\u001b[49m\u001b[43m)\u001b[49m\u001b[43m(\u001b[49m\u001b[43m*\u001b[49m\u001b[43margs\u001b[49m\u001b[43m,\u001b[49m\u001b[43m \u001b[49m\u001b[43m*\u001b[49m\u001b[43m*\u001b[49m\u001b[43mkwargs\u001b[49m\u001b[43m)\u001b[49m\n",
      "\u001b[36mFile \u001b[39m\u001b[32m<class 'networkx.utils.decorators.argmap'> compilation 4:4\u001b[39m, in \u001b[36margmap_spring_layout_1\u001b[39m\u001b[34m(G, k, pos, fixed, iterations, threshold, weight, scale, center, dim, seed)\u001b[39m\n\u001b[32m      2\u001b[39m \u001b[38;5;28;01mimport\u001b[39;00m\u001b[38;5;250m \u001b[39m\u001b[34;01mcollections\u001b[39;00m\n\u001b[32m      3\u001b[39m \u001b[38;5;28;01mimport\u001b[39;00m\u001b[38;5;250m \u001b[39m\u001b[34;01mgzip\u001b[39;00m\n\u001b[32m----> \u001b[39m\u001b[32m4\u001b[39m \u001b[38;5;28;01mimport\u001b[39;00m\u001b[38;5;250m \u001b[39m\u001b[34;01minspect\u001b[39;00m\n\u001b[32m      5\u001b[39m \u001b[38;5;28;01mimport\u001b[39;00m\u001b[38;5;250m \u001b[39m\u001b[34;01mitertools\u001b[39;00m\n\u001b[32m      6\u001b[39m \u001b[38;5;28;01mimport\u001b[39;00m\u001b[38;5;250m \u001b[39m\u001b[34;01mre\u001b[39;00m\n",
      "\u001b[36mFile \u001b[39m\u001b[32m~/opt/miniconda3/envs/newpyg/lib/python3.11/site-packages/networkx/drawing/layout.py:486\u001b[39m, in \u001b[36mspring_layout\u001b[39m\u001b[34m(G, k, pos, fixed, iterations, threshold, weight, scale, center, dim, seed)\u001b[39m\n\u001b[32m    484\u001b[39m         nnodes, _ = A.shape\n\u001b[32m    485\u001b[39m         k = dom_size / np.sqrt(nnodes)\n\u001b[32m--> \u001b[39m\u001b[32m486\u001b[39m     pos = \u001b[43m_sparse_fruchterman_reingold\u001b[49m\u001b[43m(\u001b[49m\n\u001b[32m    487\u001b[39m \u001b[43m        \u001b[49m\u001b[43mA\u001b[49m\u001b[43m,\u001b[49m\u001b[43m \u001b[49m\u001b[43mk\u001b[49m\u001b[43m,\u001b[49m\u001b[43m \u001b[49m\u001b[43mpos_arr\u001b[49m\u001b[43m,\u001b[49m\u001b[43m \u001b[49m\u001b[43mfixed\u001b[49m\u001b[43m,\u001b[49m\u001b[43m \u001b[49m\u001b[43miterations\u001b[49m\u001b[43m,\u001b[49m\u001b[43m \u001b[49m\u001b[43mthreshold\u001b[49m\u001b[43m,\u001b[49m\u001b[43m \u001b[49m\u001b[43mdim\u001b[49m\u001b[43m,\u001b[49m\u001b[43m \u001b[49m\u001b[43mseed\u001b[49m\n\u001b[32m    488\u001b[39m \u001b[43m    \u001b[49m\u001b[43m)\u001b[49m\n\u001b[32m    489\u001b[39m \u001b[38;5;28;01mexcept\u001b[39;00m \u001b[38;5;167;01mValueError\u001b[39;00m:\n\u001b[32m    490\u001b[39m     A = nx.to_numpy_array(G, weight=weight)\n",
      "\u001b[36mFile \u001b[39m\u001b[32m~/opt/miniconda3/envs/newpyg/lib/python3.11/site-packages/networkx/utils/decorators.py:788\u001b[39m, in \u001b[36margmap.__call__.<locals>.func\u001b[39m\u001b[34m(_argmap__wrapper, *args, **kwargs)\u001b[39m\n\u001b[32m    787\u001b[39m \u001b[38;5;28;01mdef\u001b[39;00m\u001b[38;5;250m \u001b[39m\u001b[34mfunc\u001b[39m(*args, __wrapper=\u001b[38;5;28;01mNone\u001b[39;00m, **kwargs):\n\u001b[32m--> \u001b[39m\u001b[32m788\u001b[39m     \u001b[38;5;28;01mreturn\u001b[39;00m \u001b[43margmap\u001b[49m\u001b[43m.\u001b[49m\u001b[43m_lazy_compile\u001b[49m\u001b[43m(\u001b[49m\u001b[43m__wrapper\u001b[49m\u001b[43m)\u001b[49m\u001b[43m(\u001b[49m\u001b[43m*\u001b[49m\u001b[43margs\u001b[49m\u001b[43m,\u001b[49m\u001b[43m \u001b[49m\u001b[43m*\u001b[49m\u001b[43m*\u001b[49m\u001b[43mkwargs\u001b[49m\u001b[43m)\u001b[49m\n",
      "\u001b[36mFile \u001b[39m\u001b[32m<class 'networkx.utils.decorators.argmap'> compilation 12:4\u001b[39m, in \u001b[36margmap__sparse_fruchterman_reingold_9\u001b[39m\u001b[34m(A, k, pos, fixed, iterations, threshold, dim, seed)\u001b[39m\n\u001b[32m      2\u001b[39m \u001b[38;5;28;01mimport\u001b[39;00m\u001b[38;5;250m \u001b[39m\u001b[34;01mcollections\u001b[39;00m\n\u001b[32m      3\u001b[39m \u001b[38;5;28;01mimport\u001b[39;00m\u001b[38;5;250m \u001b[39m\u001b[34;01mgzip\u001b[39;00m\n\u001b[32m----> \u001b[39m\u001b[32m4\u001b[39m \u001b[38;5;28;01mimport\u001b[39;00m\u001b[38;5;250m \u001b[39m\u001b[34;01minspect\u001b[39;00m\n\u001b[32m      5\u001b[39m \u001b[38;5;28;01mimport\u001b[39;00m\u001b[38;5;250m \u001b[39m\u001b[34;01mitertools\u001b[39;00m\n\u001b[32m      6\u001b[39m \u001b[38;5;28;01mimport\u001b[39;00m\u001b[38;5;250m \u001b[39m\u001b[34;01mre\u001b[39;00m\n",
      "\u001b[36mFile \u001b[39m\u001b[32m~/opt/miniconda3/envs/newpyg/lib/python3.11/site-packages/networkx/drawing/layout.py:625\u001b[39m, in \u001b[36m_sparse_fruchterman_reingold\u001b[39m\u001b[34m(A, k, pos, fixed, iterations, threshold, dim, seed)\u001b[39m\n\u001b[32m    623\u001b[39m distance = np.where(distance < \u001b[32m0.01\u001b[39m, \u001b[32m0.01\u001b[39m, distance)\n\u001b[32m    624\u001b[39m \u001b[38;5;66;03m# the adjacency matrix row\u001b[39;00m\n\u001b[32m--> \u001b[39m\u001b[32m625\u001b[39m Ai = \u001b[43mA\u001b[49m\u001b[43m.\u001b[49m\u001b[43mgetrowview\u001b[49m\u001b[43m(\u001b[49m\u001b[43mi\u001b[49m\u001b[43m)\u001b[49m.toarray()  \u001b[38;5;66;03m# TODO: revisit w/ sparse 1D container\u001b[39;00m\n\u001b[32m    626\u001b[39m \u001b[38;5;66;03m# displacement \"force\"\u001b[39;00m\n\u001b[32m    627\u001b[39m displacement[:, i] += (\n\u001b[32m    628\u001b[39m     delta * (k * k / distance**\u001b[32m2\u001b[39m - Ai * distance / k)\n\u001b[32m    629\u001b[39m ).sum(axis=\u001b[32m1\u001b[39m)\n",
      "\u001b[36mFile \u001b[39m\u001b[32m~/opt/miniconda3/envs/newpyg/lib/python3.11/site-packages/scipy/sparse/_lil.py:136\u001b[39m, in \u001b[36m_lil_base.getrowview\u001b[39m\u001b[34m(self, i)\u001b[39m\n\u001b[32m    133\u001b[39m \u001b[38;5;28;01mdef\u001b[39;00m\u001b[38;5;250m \u001b[39m\u001b[34mgetrowview\u001b[39m(\u001b[38;5;28mself\u001b[39m, i):\n\u001b[32m    134\u001b[39m \u001b[38;5;250m    \u001b[39m\u001b[33;03m\"\"\"Returns a view of the 'i'th row (without copying).\u001b[39;00m\n\u001b[32m    135\u001b[39m \u001b[33;03m    \"\"\"\u001b[39;00m\n\u001b[32m--> \u001b[39m\u001b[32m136\u001b[39m     new = \u001b[38;5;28;43mself\u001b[39;49m\u001b[43m.\u001b[49m\u001b[43m_lil_container\u001b[49m\u001b[43m(\u001b[49m\u001b[43m(\u001b[49m\u001b[32;43m1\u001b[39;49m\u001b[43m,\u001b[49m\u001b[43m \u001b[49m\u001b[38;5;28;43mself\u001b[39;49m\u001b[43m.\u001b[49m\u001b[43mshape\u001b[49m\u001b[43m[\u001b[49m\u001b[32;43m1\u001b[39;49m\u001b[43m]\u001b[49m\u001b[43m)\u001b[49m\u001b[43m,\u001b[49m\u001b[43m \u001b[49m\u001b[43mdtype\u001b[49m\u001b[43m=\u001b[49m\u001b[38;5;28;43mself\u001b[39;49m\u001b[43m.\u001b[49m\u001b[43mdtype\u001b[49m\u001b[43m)\u001b[49m\n\u001b[32m    137\u001b[39m     new.rows[\u001b[32m0\u001b[39m] = \u001b[38;5;28mself\u001b[39m.rows[i]\n\u001b[32m    138\u001b[39m     new.data[\u001b[32m0\u001b[39m] = \u001b[38;5;28mself\u001b[39m.data[i]\n",
      "\u001b[36mFile \u001b[39m\u001b[32m~/opt/miniconda3/envs/newpyg/lib/python3.11/site-packages/scipy/sparse/_lil.py:24\u001b[39m, in \u001b[36m_lil_base.__init__\u001b[39m\u001b[34m(self, arg1, shape, dtype, copy, maxprint)\u001b[39m\n\u001b[32m     23\u001b[39m \u001b[38;5;28;01mdef\u001b[39;00m\u001b[38;5;250m \u001b[39m\u001b[34m__init__\u001b[39m(\u001b[38;5;28mself\u001b[39m, arg1, shape=\u001b[38;5;28;01mNone\u001b[39;00m, dtype=\u001b[38;5;28;01mNone\u001b[39;00m, copy=\u001b[38;5;28;01mFalse\u001b[39;00m, *, maxprint=\u001b[38;5;28;01mNone\u001b[39;00m):\n\u001b[32m---> \u001b[39m\u001b[32m24\u001b[39m     \u001b[43m_spbase\u001b[49m\u001b[43m.\u001b[49m\u001b[34;43m__init__\u001b[39;49m\u001b[43m(\u001b[49m\u001b[38;5;28;43mself\u001b[39;49m\u001b[43m,\u001b[49m\u001b[43m \u001b[49m\u001b[43marg1\u001b[49m\u001b[43m,\u001b[49m\u001b[43m \u001b[49m\u001b[43mmaxprint\u001b[49m\u001b[43m=\u001b[49m\u001b[43mmaxprint\u001b[49m\u001b[43m)\u001b[49m\n\u001b[32m     25\u001b[39m     \u001b[38;5;28mself\u001b[39m.dtype = getdtype(dtype, arg1, default=\u001b[38;5;28mfloat\u001b[39m)\n\u001b[32m     27\u001b[39m     \u001b[38;5;66;03m# First get the shape\u001b[39;00m\n",
      "\u001b[36mFile \u001b[39m\u001b[32m~/opt/miniconda3/envs/newpyg/lib/python3.11/site-packages/scipy/sparse/_base.py:119\u001b[39m, in \u001b[36m_spbase.__init__\u001b[39m\u001b[34m(self, arg1, maxprint)\u001b[39m\n\u001b[32m    116\u001b[39m \u001b[38;5;28;01mif\u001b[39;00m \u001b[38;5;28mself\u001b[39m.\u001b[34m__class__\u001b[39m.\u001b[34m__name__\u001b[39m == \u001b[33m'\u001b[39m\u001b[33m_spbase\u001b[39m\u001b[33m'\u001b[39m:\n\u001b[32m    117\u001b[39m     \u001b[38;5;28;01mraise\u001b[39;00m \u001b[38;5;167;01mValueError\u001b[39;00m(\u001b[33m\"\u001b[39m\u001b[33mThis class is not intended\u001b[39m\u001b[33m\"\u001b[39m\n\u001b[32m    118\u001b[39m                      \u001b[33m\"\u001b[39m\u001b[33m to be instantiated directly.\u001b[39m\u001b[33m\"\u001b[39m)\n\u001b[32m--> \u001b[39m\u001b[32m119\u001b[39m \u001b[38;5;28;01mif\u001b[39;00m \u001b[38;5;28misinstance\u001b[39m(\u001b[38;5;28mself\u001b[39m, sparray) \u001b[38;5;129;01mand\u001b[39;00m \u001b[43mnp\u001b[49m\u001b[43m.\u001b[49m\u001b[43misscalar\u001b[49m\u001b[43m(\u001b[49m\u001b[43marg1\u001b[49m\u001b[43m)\u001b[49m:\n\u001b[32m    120\u001b[39m     \u001b[38;5;28;01mraise\u001b[39;00m \u001b[38;5;167;01mValueError\u001b[39;00m(\n\u001b[32m    121\u001b[39m         \u001b[33m\"\u001b[39m\u001b[33mscipy sparse array classes do not support instantiation from a scalar\u001b[39m\u001b[33m\"\u001b[39m\n\u001b[32m    122\u001b[39m     )\n\u001b[32m    123\u001b[39m \u001b[38;5;28mself\u001b[39m.maxprint = MAXPRINT \u001b[38;5;28;01mif\u001b[39;00m maxprint \u001b[38;5;129;01mis\u001b[39;00m \u001b[38;5;28;01mNone\u001b[39;00m \u001b[38;5;28;01melse\u001b[39;00m maxprint\n",
      "\u001b[36mFile \u001b[39m\u001b[32m~/opt/miniconda3/envs/newpyg/lib/python3.11/site-packages/numpy/core/numeric.py:1933\u001b[39m, in \u001b[36misscalar\u001b[39m\u001b[34m(element)\u001b[39m\n\u001b[32m   1855\u001b[39m \u001b[38;5;129m@set_module\u001b[39m(\u001b[33m'\u001b[39m\u001b[33mnumpy\u001b[39m\u001b[33m'\u001b[39m)\n\u001b[32m   1856\u001b[39m \u001b[38;5;28;01mdef\u001b[39;00m\u001b[38;5;250m \u001b[39m\u001b[34misscalar\u001b[39m(element):\n\u001b[32m   1857\u001b[39m \u001b[38;5;250m    \u001b[39m\u001b[33;03m\"\"\"\u001b[39;00m\n\u001b[32m   1858\u001b[39m \u001b[33;03m    Returns True if the type of `element` is a scalar type.\u001b[39;00m\n\u001b[32m   1859\u001b[39m \n\u001b[32m   (...)\u001b[39m\u001b[32m   1929\u001b[39m \n\u001b[32m   1930\u001b[39m \u001b[33;03m    \"\"\"\u001b[39;00m\n\u001b[32m   1931\u001b[39m     \u001b[38;5;28;01mreturn\u001b[39;00m (\u001b[38;5;28misinstance\u001b[39m(element, generic)\n\u001b[32m   1932\u001b[39m             \u001b[38;5;129;01mor\u001b[39;00m \u001b[38;5;28mtype\u001b[39m(element) \u001b[38;5;129;01min\u001b[39;00m ScalarType\n\u001b[32m-> \u001b[39m\u001b[32m1933\u001b[39m             \u001b[38;5;129;01mor\u001b[39;00m \u001b[38;5;28misinstance\u001b[39m(element, numbers.Number))\n",
      "\u001b[36mFile \u001b[39m\u001b[32m<frozen abc>:117\u001b[39m, in \u001b[36m__instancecheck__\u001b[39m\u001b[34m(cls, instance)\u001b[39m\n",
      "\u001b[31mKeyboardInterrupt\u001b[39m: "
     ]
    }
   ],
   "source": [
    "import networkx as nx\n",
    "import matplotlib.pyplot as plt\n",
    "from torch_geometric.utils import to_networkx\n",
    "\n",
    "def visualize_subgraph(data: Data, edge_index: torch.Tensor, highlight_nodes: torch.Tensor = None):\n",
    "    \"\"\"\n",
    "    Visualizes a subgraph defined by given edges.\n",
    "\n",
    "    Parameters:\n",
    "    - data (torch_geometric.data.Data): Full graph data\n",
    "    - edge_index (torch.Tensor): 2 x N tensor of edges in subgraph\n",
    "    - highlight_nodes (torch.Tensor, optional): Nodes to highlight (e.g., the center + its neighbors)\n",
    "    \"\"\"\n",
    "    # Create a shallow copy of data with only the subgraph edges\n",
    "    sub_data = Data(x=data.x, edge_index=edge_index)\n",
    "\n",
    "    # Convert to NetworkX for plotting\n",
    "    G = to_networkx(sub_data, to_undirected=True)\n",
    "\n",
    "    # Draw with optional node highlighting\n",
    "    pos = nx.spring_layout(G, seed=42)\n",
    "    nx.draw(G, pos, with_labels=True, node_color='lightblue', edge_color='gray', node_size=500, font_size=10)\n",
    "\n",
    "    if highlight_nodes is not None:\n",
    "        highlight = [int(i) for i in highlight_nodes]\n",
    "        nx.draw_networkx_nodes(G, pos, nodelist=highlight, node_color='orange')\n",
    "\n",
    "    plt.title(\"Subgraph Visualization\")\n",
    "    plt.show()\n",
    "\n",
    "visualize_subgraph(data, data.edge_index, highlight_nodes=n_nodes)"
   ]
  },
  {
   "cell_type": "code",
   "execution_count": null,
   "id": "4b9791fc",
   "metadata": {},
   "outputs": [],
   "source": []
  }
 ],
 "metadata": {
  "kernelspec": {
   "display_name": "newpyg",
   "language": "python",
   "name": "python3"
  },
  "language_info": {
   "codemirror_mode": {
    "name": "ipython",
    "version": 3
   },
   "file_extension": ".py",
   "mimetype": "text/x-python",
   "name": "python",
   "nbconvert_exporter": "python",
   "pygments_lexer": "ipython3",
   "version": "3.11.0"
  }
 },
 "nbformat": 4,
 "nbformat_minor": 5
}
