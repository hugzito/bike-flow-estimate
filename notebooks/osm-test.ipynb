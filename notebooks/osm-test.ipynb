{
 "cells": [
  {
   "cell_type": "code",
   "execution_count": null,
   "metadata": {},
   "outputs": [],
   "source": [
    "import osmnx as ox\n",
    "import networkx as nx\n",
    "import matplotlib.pyplot as plt\n",
    "import numpy as np\n",
    "import pandas as pd\n",
    "import geopandas as gpd\n",
    "import folium\n",
    "from folium import plugins\n",
    "from folium.plugins import HeatMap\n",
    "from shapely.geometry import Point, LineString, Polygon\n",
    "import shapely\n",
    "import momepy as mp \n",
    "import esda\n",
    "import seaborn as sns\n",
    "sns.set_theme()\n"
   ]
  },
  {
   "cell_type": "code",
   "execution_count": 14,
   "metadata": {},
   "outputs": [],
   "source": [
    "### convert polygon to geodataframe\n",
    "gdf = gpd.GeoDataFrame(index=[0], crs='EPSG:3857', geometry=[poly])\n",
    "gdf = gdf.to_crs('EPSG:4326'); gdf = gdf['geometry'][0]\n"
   ]
  },
  {
   "cell_type": "code",
   "execution_count": 15,
   "metadata": {},
   "outputs": [],
   "source": [
    "# oslo = ox.graph.graph_from_polygon(gdf, network_type='all', simplify=True)\n"
   ]
  },
  {
   "cell_type": "code",
   "execution_count": 18,
   "metadata": {},
   "outputs": [],
   "source": [
    "lat, lon = 55.6867243, 12.5700724\n"
   ]
  },
  {
   "cell_type": "code",
   "execution_count": 19,
   "metadata": {},
   "outputs": [],
   "source": [
    "def get_city_graph(lat, lon, dist, polygonize=False, plot = False):\n",
    "    g = ox.graph_from_point((lat, lon), dist=dist, network_type='all', simplify=True)\n",
    "    gdf = mp.nx_to_gdf(g)\n",
    "    edges = gdf[1].to_crs('EPSG:3857')\n",
    "    if polygonize:\n",
    "        linestrings = edges.geometry # our geopandas.GeoSeries of linestrings representing street network\n",
    "        collection = shapely.GeometryCollection(linestrings.array)  # combine to a single object\n",
    "        noded = shapely.node(collection)  # add missing nodes\n",
    "        polygonized = shapely.polygonize(noded.geoms)  # polygonize based on an array of noded parts\n",
    "        polygons = gpd.GeoSeries(polygonized.geoms)  # create a GeoSeries from parts\n",
    "        return g, edges, polygons\n",
    "    if plot:\n",
    "        ### plot the graph\n",
    "        fig, ax = ox.plot_graph(g, node_size=0, edge_linewidth=0.5, show=False, close=False)\n",
    "        edges.plot(ax=ax, linewidth=1, edgecolor='black')\n",
    "        plt.show()\n",
    "    return g, edges\n"
   ]
  },
  {
   "cell_type": "code",
   "execution_count": null,
   "metadata": {},
   "outputs": [],
   "source": [
    "g, edges = get_city_graph(lat, lon, 20000, polygonize=False)\n"
   ]
  },
  {
   "cell_type": "code",
   "execution_count": null,
   "metadata": {},
   "outputs": [],
   "source": [
    "### plot the graph\n",
    "fig, ax = ox.plot_graph(g, node_size=0, edge_linewidth=0.5, show=False, close=False)\n",
    "edges.plot(ax=ax, linewidth=1, edgecolor='black')\n"
   ]
  },
  {
   "cell_type": "code",
   "execution_count": null,
   "metadata": {},
   "outputs": [],
   "source": []
  }
 ],
 "metadata": {
  "kernelspec": {
   "display_name": ".venv",
   "language": "python",
   "name": "python3"
  },
  "language_info": {
   "codemirror_mode": {
    "name": "ipython",
    "version": 3
   },
   "file_extension": ".py",
   "mimetype": "text/x-python",
   "name": "python",
   "nbconvert_exporter": "python",
   "pygments_lexer": "ipython3",
   "version": "3.12.6"
  }
 },
 "nbformat": 4,
 "nbformat_minor": 2
}
