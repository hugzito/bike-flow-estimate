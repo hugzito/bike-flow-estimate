{
 "cells": [
  {
   "cell_type": "code",
   "execution_count": 26,
   "id": "7e3f846a",
   "metadata": {},
   "outputs": [],
   "source": [
    "import pandas as pd\n",
    "import numpy as np\n",
    "import os\n",
    "import sys\n",
    "from sklearn.linear_model import LogisticRegression, LinearRegression\n",
    "from torch_geometric.data import Data\n",
    "from sklearn.model_selection import train_test_split\n",
    "from sklearn.metrics import accuracy_score, f1_score, confusion_matrix, classification_report, r2_score, mean_absolute_error\n",
    "import pickle\n",
    "import torch\n",
    "\n",
    "graph_num = 17\n",
    "\n",
    "with open(f'../data/graphs/{graph_num}/linegraph_tg.pkl', 'rb') as f:\n",
    "    graph_data = pickle.load(f)\n",
    "\n",
    "bins = [int(i) for i in '400 800 1300 2100 3000 3700 4700 7020 9660'.split()]\n",
    "bins = [int(i) for i in '3000'.split()]\n",
    "bins = torch.tensor(bins)\n"
   ]
  },
  {
   "cell_type": "code",
   "execution_count": 34,
   "id": "a216224f",
   "metadata": {},
   "outputs": [
    {
     "data": {
      "text/plain": [
       "tensor([2.0000e+00, 5.0000e+01, 1.0000e+00, 0.0000e+00, 7.4253e+01, 6.1045e-08,\n",
       "        4.0000e+00, 0.0000e+00, 0.0000e+00, 0.0000e+00, 0.0000e+00, 0.0000e+00,\n",
       "        0.0000e+00, 0.0000e+00, 0.0000e+00, 0.0000e+00, 0.0000e+00, 0.0000e+00,\n",
       "        0.0000e+00, 0.0000e+00, 0.0000e+00, 0.0000e+00, 0.0000e+00, 0.0000e+00,\n",
       "        0.0000e+00, 0.0000e+00, 0.0000e+00, 0.0000e+00, 0.0000e+00, 0.0000e+00,\n",
       "        0.0000e+00])"
      ]
     },
     "execution_count": 34,
     "metadata": {},
     "output_type": "execute_result"
    }
   ],
   "source": [
    "graph_data.x[0]\n"
   ]
  },
  {
   "cell_type": "code",
   "execution_count": 27,
   "id": "0a472693",
   "metadata": {},
   "outputs": [],
   "source": [
    "y = graph_data.y[graph_data.y > 0]\n",
    "x = graph_data.x[graph_data.y > 0].numpy()\n"
   ]
  },
  {
   "cell_type": "code",
   "execution_count": 28,
   "id": "39575f91",
   "metadata": {},
   "outputs": [
    {
     "name": "stdout",
     "output_type": "stream",
     "text": [
      "Train R2: 0.024193975194143458\n",
      "Valid R2: 0.005741773378489801\n",
      "Train MAE: 3127.6548\n",
      "Valid MAE: 3469.0444\n"
     ]
    }
   ],
   "source": [
    "X_train, X_test, y_train, y_test = train_test_split(x[:,5], y, test_size=0.3, random_state=42)\n",
    "X_valid, X_test, y_valid, y_test = train_test_split(X_test, y_test, test_size=0.5, random_state=42)\n",
    "regression_model = LinearRegression()\n",
    "\n",
    "\n",
    "regression_model.fit(X_train.reshape(-1, 1), y_train)\n",
    "y_train_pred = regression_model.predict(X_train.reshape(-1, 1))\n",
    "y_valid_pred = regression_model.predict(X_valid.reshape(-1, 1))\n",
    "\n",
    "print('Train R2:', r2_score(y_train, y_train_pred))\n",
    "print('Valid R2:', r2_score(y_valid, y_valid_pred))\n",
    "print('Train MAE:', mean_absolute_error(y_train, y_train_pred))\n",
    "print('Valid MAE:', mean_absolute_error(y_valid, y_valid_pred))\n"
   ]
  },
  {
   "cell_type": "code",
   "execution_count": 29,
   "id": "452ea3d0",
   "metadata": {},
   "outputs": [],
   "source": [
    "y = graph_data.y[graph_data.y > 0]\n",
    "x = graph_data.x[graph_data.y > 0].numpy()\n",
    "\n",
    "y = torch.bucketize(y, boundaries=bins).numpy()\n"
   ]
  },
  {
   "cell_type": "code",
   "execution_count": 35,
   "id": "bb14a8bd",
   "metadata": {},
   "outputs": [
    {
     "name": "stdout",
     "output_type": "stream",
     "text": [
      "X_train shape: (444, 1)\n",
      "X_valid shape: (95, 1)\n",
      "X_test shape: (96, 1)\n"
     ]
    }
   ],
   "source": [
    "X_train, X_test, y_train, y_test = train_test_split(x[:,5].reshape(-1,1), y, test_size=0.3, random_state=42)\n",
    "X_valid, X_test, y_valid, y_test = train_test_split(X_test, y_test, test_size=0.5, random_state=42)\n",
    "print(f\"X_train shape: {X_train.shape}\")\n",
    "print(f\"X_valid shape: {X_valid.shape}\")\n",
    "print(f\"X_test shape: {X_test.shape}\")\n"
   ]
  },
  {
   "cell_type": "code",
   "execution_count": 36,
   "id": "e8a61788",
   "metadata": {},
   "outputs": [
    {
     "name": "stdout",
     "output_type": "stream",
     "text": [
      "[[53  0]\n",
      " [42  0]]\n",
      "Validation accuracy: 0.5579\n",
      "              precision    recall  f1-score   support\n",
      "\n",
      "           0       0.56      1.00      0.72        53\n",
      "           1       0.00      0.00      0.00        42\n",
      "\n",
      "    accuracy                           0.56        95\n",
      "   macro avg       0.28      0.50      0.36        95\n",
      "weighted avg       0.31      0.56      0.40        95\n",
      "\n"
     ]
    }
   ],
   "source": [
    "# Create a Logistic Regression model\n",
    "model = LogisticRegression(max_iter=10000, solver='saga', random_state=42, multi_class='auto')\n",
    "# Fit the model on the training data\n",
    "model.fit(X_train, y_train)\n",
    "# Evaluate the model on the validation data\n",
    "valid_accuracy = model.score(X_valid, y_valid)\n",
    "\n",
    "print(confusion_matrix(y_valid, model.predict(X_valid)))\n",
    "print(f\"Validation accuracy: {valid_accuracy:.4f}\")\n",
    "\n",
    "print(classification_report(y_valid, model.predict(X_valid), zero_division=0))\n"
   ]
  },
  {
   "cell_type": "code",
   "execution_count": null,
   "id": "fe41fc0e",
   "metadata": {},
   "outputs": [],
   "source": []
  }
 ],
 "metadata": {
  "kernelspec": {
   "display_name": "py9",
   "language": "python",
   "name": "python3"
  },
  "language_info": {
   "codemirror_mode": {
    "name": "ipython",
    "version": 3
   },
   "file_extension": ".py",
   "mimetype": "text/x-python",
   "name": "python",
   "nbconvert_exporter": "python",
   "pygments_lexer": "ipython3",
   "version": "3.9.0"
  }
 },
 "nbformat": 4,
 "nbformat_minor": 5
}
