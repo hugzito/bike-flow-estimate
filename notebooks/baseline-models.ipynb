{
 "cells": [
  {
   "cell_type": "code",
   "execution_count": null,
   "id": "7e3f846a",
   "metadata": {},
   "outputs": [],
   "source": [
    "import pandas as pd\n",
    "import numpy as np\n",
    "import os\n",
    "import sys\n",
    "from sklearn.linear_model import LogisticRegression, LinearRegression\n",
    "from torch_geometric.data import Data\n",
    "from sklearn.model_selection import train_test_split\n",
    "from sklearn.metrics import accuracy_score, f1_score, confusion_matrix, classification_report, r2_score, mean_absolute_error\n",
    "import pickle\n",
    "import torch\n",
    "\n",
    "graph_num = 18\n",
    "\n",
    "with open(f'../data/graphs/{graph_num}/linegraph_tg.pkl', 'rb') as f:\n",
    "    graph_data = pickle.load(f)\n",
    "\n",
    "bins_10 = torch.tensor([int(i) for i in '400 800 1300 2100 3000 3700 4700 7020 9660'.split()])\n",
    "bins_binary = torch.tensor([int(i) for i in '3000'.split()])\n"
   ]
  },
  {
   "cell_type": "code",
   "execution_count": null,
   "id": "0a472693",
   "metadata": {},
   "outputs": [],
   "source": [
    "y = graph_data.y[graph_data.y > 0]\n",
    "x = graph_data.x[graph_data.y > 0].numpy()\n",
    "\n",
    "\n",
    "x_bc = x[:, 5].reshape(-1, 1)\n"
   ]
  },
  {
   "cell_type": "code",
   "execution_count": null,
   "id": "39575f91",
   "metadata": {},
   "outputs": [],
   "source": [
    "X_train, X_test, y_train, y_test = train_test_split(x, y, test_size=0.3, random_state=42)\n",
    "X_valid, X_test, y_valid, y_test = train_test_split(X_test, y_test, test_size=0.5, random_state=42)\n",
    "regression_model = LinearRegression()\n",
    "\n",
    "regression_model.fit(X_train, y_train)\n",
    "y_train_pred = regression_model.predict(X_train)\n",
    "y_valid_pred = regression_model.predict(X_valid)\n",
    "\n",
    "\n",
    "print('With All Features:')\n",
    "print('Train R2:', r2_score(y_train, y_train_pred))\n",
    "print('Valid R2:', r2_score(y_valid, y_valid_pred))\n",
    "print('Train MAE:', mean_absolute_error(y_train, y_train_pred))\n",
    "print('Valid MAE:', mean_absolute_error(y_valid, y_valid_pred))\n",
    "\n",
    "\n",
    "print('\\n\\n')\n",
    "\n",
    "print('With BC Feature:')\n",
    "X_train_bc, X_test_bc, y_train_bc, y_test_bc = train_test_split(x_bc, y, test_size=0.3, random_state=42)\n",
    "X_valid_bc, X_test_bc, y_valid_bc, y_test_bc = train_test_split(X_test_bc, y_test_bc, test_size=0.5, random_state=42)\n",
    "regression_model_bc = LinearRegression()\n",
    "regression_model_bc.fit(X_train_bc, y_train_bc)\n",
    "y_train_bc_pred = regression_model_bc.predict(X_train_bc)\n",
    "y_valid_bc_pred = regression_model_bc.predict(X_valid_bc)\n",
    "print('Train R2:', r2_score(y_train_bc, y_train_bc_pred))\n",
    "print('Valid R2:', r2_score(y_valid_bc, y_valid_bc_pred))\n",
    "print('Train MAE:', mean_absolute_error(y_train_bc, y_train_bc_pred))\n",
    "print('Valid MAE:', mean_absolute_error(y_valid_bc, y_valid_bc_pred))\n"
   ]
  },
  {
   "cell_type": "code",
   "execution_count": null,
   "id": "452ea3d0",
   "metadata": {},
   "outputs": [],
   "source": [
    "y = graph_data.y[graph_data.y > 0]\n",
    "x = graph_data.x[graph_data.y > 0].numpy()\n",
    "y = torch.bucketize(y, boundaries=bins_binary).numpy()\n"
   ]
  },
  {
   "cell_type": "code",
   "execution_count": null,
   "id": "bb14a8bd",
   "metadata": {},
   "outputs": [],
   "source": [
    "X_train, X_test, y_train, y_test = train_test_split(x, y, test_size=0.3, random_state=42)\n",
    "X_valid, X_test, y_valid, y_test = train_test_split(X_test, y_test, test_size=0.5, random_state=42)\n"
   ]
  },
  {
   "cell_type": "code",
   "execution_count": null,
   "id": "e8a61788",
   "metadata": {},
   "outputs": [],
   "source": [
    "print('ON BINARY CLASSIFICATION TASK')\n",
    "print('With All Features:')\n",
    "# Create a Logistic Regression model\n",
    "model = LogisticRegression(max_iter=int(1e+5), solver='saga', random_state=42, multi_class='auto')\n",
    "# Fit the model on the training data\n",
    "model.fit(X_train, y_train)\n",
    "# Evaluate the model on the validation data\n",
    "valid_accuracy = model.score(X_valid, y_valid)\n",
    "\n",
    "print(f\"Validation accuracy: {valid_accuracy:.4f}\")\n",
    "\n",
    "print(classification_report(y_valid, model.predict(X_valid), zero_division=0))\n",
    "\n",
    "print('\\n\\n')\n",
    "\n",
    "print('With BC :')\n",
    "X_train_bc, X_test_bc, y_train_bc, y_test_bc = train_test_split(x_bc, y, test_size=0.3, random_state=42)\n",
    "X_valid_bc, X_test_bc, y_valid_bc, y_test_bc = train_test_split(X_test_bc, y_test_bc, test_size=0.5, random_state=42)\n",
    "# Create a Logistic Regression model\n",
    "model_bc = LogisticRegression(max_iter=int(1e+5), solver='saga', random_state=42, multi_class='auto')\n",
    "# Fit the model on the training data\n",
    "model_bc.fit(X_train_bc, y_train_bc)\n",
    "# Evaluate the model on the validation data\n",
    "valid_accuracy_bc = model_bc.score(X_valid_bc, y_valid_bc)\n",
    "print(f\"Validation accuracy: {valid_accuracy_bc:.4f}\")\n",
    "print(classification_report(y_valid_bc, model_bc.predict(X_valid_bc), zero_division=0))\n"
   ]
  },
  {
   "cell_type": "code",
   "execution_count": null,
   "id": "fe41fc0e",
   "metadata": {},
   "outputs": [],
   "source": [
    "y = graph_data.y[graph_data.y > 0]\n",
    "y = torch.bucketize(y, boundaries=bins_10).numpy()\n",
    "X_train, X_test, y_train, y_test = train_test_split(x, y, test_size=0.3, random_state=42)\n",
    "X_valid, X_test, y_valid, y_test = train_test_split(X_test, y_test, test_size=0.5, random_state=42)\n",
    "\n",
    "print('ON MULTI CLASS CLASSIFICATION TASK')\n",
    "print('With All Features:')\n",
    "# Create a Logistic Regression model\n",
    "model = LogisticRegression(max_iter=int(1e+5), solver='saga', random_state=42, multi_class='auto')\n",
    "# Fit the model on the training data\n",
    "model.fit(X_train, y_train)\n",
    "# Evaluate the model on the validation data\n",
    "valid_accuracy = model.score(X_valid, y_valid)\n",
    "print(f\"Validation accuracy: {valid_accuracy:.4f}\")\n",
    "print(classification_report(y_valid, model.predict(X_valid), zero_division=0))\n",
    "print('\\n\\n')\n",
    "print('With BC :')\n",
    "X_train_bc, X_test_bc, y_train_bc, y_test_bc = train_test_split(x_bc, y, test_size=0.3, random_state=42)\n",
    "X_valid_bc, X_test_bc, y_valid_bc, y_test_bc = train_test_split(X_test_bc, y_test_bc, test_size=0.5, random_state=42)\n",
    "# Create a Logistic Regression model\n",
    "model_bc = LogisticRegression(max_iter=int(1e+5), solver='saga', random_state=42, multi_class='auto')\n",
    "# Fit the model on the training data\n",
    "model_bc.fit(X_train_bc, y_train_bc)\n",
    "# Evaluate the model on the validation data\n",
    "valid_accuracy_bc = model_bc.score(X_valid_bc, y_valid_bc)\n",
    "print(f\"Validation accuracy: {valid_accuracy_bc:.4f}\")\n",
    "print(classification_report(y_valid_bc, model_bc.predict(X_valid_bc), zero_division=0))\n"
   ]
  },
  {
   "cell_type": "code",
   "execution_count": null,
   "id": "f6357dba",
   "metadata": {},
   "outputs": [],
   "source": []
  }
 ],
 "metadata": {
  "kernelspec": {
   "display_name": "py9",
   "language": "python",
   "name": "python3"
  },
  "language_info": {
   "codemirror_mode": {
    "name": "ipython",
    "version": 3
   },
   "file_extension": ".py",
   "mimetype": "text/x-python",
   "name": "python",
   "nbconvert_exporter": "python",
   "pygments_lexer": "ipython3",
   "version": "3.9.0"
  }
 },
 "nbformat": 4,
 "nbformat_minor": 5
}
