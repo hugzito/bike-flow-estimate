{
 "cells": [
  {
   "cell_type": "code",
   "metadata": {
    "ExecuteTime": {
     "end_time": "2025-02-17T08:18:02.194924Z",
     "start_time": "2025-02-17T08:17:58.591347Z"
    }
   },
   "source": [
    "import os, torch\n",
    "\n",
    "### load graph data \n",
    "import pickle\n",
    "\n",
    "with open('../data/graphs/linegraph_tg.pkl', 'rb') as f:\n",
    "    data = pickle.load(f)\n"
   ],
   "outputs": [
    {
     "name": "stderr",
     "output_type": "stream",
     "text": [
      "/Users/manuel/miniconda3/envs/Thesis_Repo/lib/python3.12/site-packages/tqdm/auto.py:21: TqdmWarning: IProgress not found. Please update jupyter and ipywidgets. See https://ipywidgets.readthedocs.io/en/stable/user_install.html\n",
      "  from .autonotebook import tqdm as notebook_tqdm\n"
     ]
    }
   ],
   "execution_count": 1
  },
  {
   "cell_type": "code",
   "metadata": {},
   "source": [
    "### create edge sampling loader\n",
    "import torch_geometric.transforms as T\n",
    "import numpy as np\n",
    "from torch_geometric.nn.models import Node2Vec\n",
    "\n",
    "model = Node2Vec(data.edge_index, embedding_dim=64, walk_length=20,\n",
    "                    context_size=10, walks_per_node=10,\n",
    "                    num_negative_samples=1, p=2.0, q=0.5, sparse=True)\n",
    "\n",
    "loader = model.loader(batch_size=128, shuffle=True)\n",
    "optimizer = torch.optim.SparseAdam(list(model.parameters()), lr=0.0001)\n",
    "device = torch.device('cuda' if torch.cuda.is_available() else 'cpu')"
   ],
   "outputs": [],
   "execution_count": null
  },
  {
   "metadata": {
    "ExecuteTime": {
     "end_time": "2025-02-17T10:57:11.445793Z",
     "start_time": "2025-02-17T10:57:11.376081Z"
    }
   },
   "cell_type": "code",
   "source": "torch.save(model.state_dict(), '../data/node2vec.pt')",
   "outputs": [],
   "execution_count": 7
  },
  {
   "metadata": {
    "ExecuteTime": {
     "end_time": "2025-02-17T10:57:30.453545Z",
     "start_time": "2025-02-17T10:57:30.449555Z"
    }
   },
   "cell_type": "code",
   "source": "model",
   "outputs": [
    {
     "data": {
      "text/plain": [
       "Node2Vec(146220, 64)"
      ]
     },
     "execution_count": 8,
     "metadata": {},
     "output_type": "execute_result"
    }
   ],
   "execution_count": 8
  },
  {
   "metadata": {
    "ExecuteTime": {
     "end_time": "2025-02-17T12:59:12.715136Z",
     "start_time": "2025-02-17T10:58:04.288181Z"
    }
   },
   "cell_type": "code",
   "source": [
    "def train():\n",
    "    model.train()\n",
    "    total_loss = 0\n",
    "    for pos_rw, neg_rw in loader:\n",
    "        optimizer.zero_grad()\n",
    "        loss = model.loss(pos_rw.to(device), neg_rw.to(device))\n",
    "        loss.backward()\n",
    "        optimizer.step()\n",
    "        total_loss += loss.item()\n",
    "    return total_loss / len(loader)\n",
    "\n",
    "for i in range(1, 51):\n",
    "    loss = train()\n",
    "    print('Epoch: {:02d}, Loss: {:.4f}'.format(i, loss))\n"
   ],
   "outputs": [
    {
     "name": "stdout",
     "output_type": "stream",
     "text": [
      "Epoch: 01, Loss: 1.6165\n",
      "Epoch: 02, Loss: 1.6004\n",
      "Epoch: 03, Loss: 1.5846\n",
      "Epoch: 04, Loss: 1.5694\n",
      "Epoch: 05, Loss: 1.5540\n",
      "Epoch: 06, Loss: 1.5390\n",
      "Epoch: 07, Loss: 1.5246\n",
      "Epoch: 08, Loss: 1.5096\n",
      "Epoch: 09, Loss: 1.4955\n",
      "Epoch: 10, Loss: 1.4816\n",
      "Epoch: 11, Loss: 1.4676\n",
      "Epoch: 12, Loss: 1.4543\n",
      "Epoch: 13, Loss: 1.4408\n",
      "Epoch: 14, Loss: 1.4280\n",
      "Epoch: 15, Loss: 1.4148\n",
      "Epoch: 16, Loss: 1.4020\n",
      "Epoch: 17, Loss: 1.3893\n",
      "Epoch: 18, Loss: 1.3772\n",
      "Epoch: 19, Loss: 1.3650\n",
      "Epoch: 20, Loss: 1.3535\n",
      "Epoch: 21, Loss: 1.3414\n",
      "Epoch: 22, Loss: 1.3300\n",
      "Epoch: 23, Loss: 1.3186\n",
      "Epoch: 24, Loss: 1.3075\n",
      "Epoch: 25, Loss: 1.2964\n",
      "Epoch: 26, Loss: 1.2860\n",
      "Epoch: 27, Loss: 1.2752\n",
      "Epoch: 28, Loss: 1.2645\n",
      "Epoch: 29, Loss: 1.2548\n",
      "Epoch: 30, Loss: 1.2445\n",
      "Epoch: 31, Loss: 1.2345\n",
      "Epoch: 32, Loss: 1.2248\n",
      "Epoch: 33, Loss: 1.2153\n",
      "Epoch: 34, Loss: 1.2062\n",
      "Epoch: 35, Loss: 1.1970\n",
      "Epoch: 36, Loss: 1.1879\n",
      "Epoch: 37, Loss: 1.1790\n",
      "Epoch: 38, Loss: 1.1703\n",
      "Epoch: 39, Loss: 1.1618\n",
      "Epoch: 40, Loss: 1.1531\n",
      "Epoch: 41, Loss: 1.1449\n",
      "Epoch: 42, Loss: 1.1370\n",
      "Epoch: 43, Loss: 1.1292\n",
      "Epoch: 44, Loss: 1.1214\n",
      "Epoch: 45, Loss: 1.1135\n",
      "Epoch: 46, Loss: 1.1061\n",
      "Epoch: 47, Loss: 1.0990\n",
      "Epoch: 48, Loss: 1.0917\n",
      "Epoch: 49, Loss: 1.0844\n",
      "Epoch: 50, Loss: 1.0775\n"
     ]
    }
   ],
   "execution_count": 9
  },
  {
   "cell_type": "code",
   "metadata": {
    "ExecuteTime": {
     "end_time": "2025-02-17T12:59:48.370014Z",
     "start_time": "2025-02-17T12:59:48.312739Z"
    }
   },
   "source": "torch.save(model.state_dict(), '../data/node2vec_2.pt')",
   "outputs": [],
   "execution_count": 10
  },
  {
   "metadata": {
    "ExecuteTime": {
     "end_time": "2025-02-17T14:20:31.289760Z",
     "start_time": "2025-02-17T13:00:02.783630Z"
    }
   },
   "cell_type": "code",
   "source": [
    "def train():\n",
    "    model.train()\n",
    "    total_loss = 0\n",
    "    for pos_rw, neg_rw in loader:\n",
    "        optimizer.zero_grad()\n",
    "        loss = model.loss(pos_rw.to(device), neg_rw.to(device))\n",
    "        loss.backward()\n",
    "        optimizer.step()\n",
    "        total_loss += loss.item()\n",
    "    return total_loss / len(loader)\n",
    "\n",
    "for i in range(1, 51):\n",
    "    loss = train()\n",
    "    print('Epoch: {:02d}, Loss: {:.4f}'.format(i, loss))"
   ],
   "outputs": [
    {
     "name": "stdout",
     "output_type": "stream",
     "text": [
      "Epoch: 01, Loss: 1.0708\n",
      "Epoch: 02, Loss: 1.0640\n",
      "Epoch: 03, Loss: 1.0577\n",
      "Epoch: 04, Loss: 1.0514\n",
      "Epoch: 05, Loss: 1.0450\n",
      "Epoch: 06, Loss: 1.0388\n",
      "Epoch: 07, Loss: 1.0329\n",
      "Epoch: 08, Loss: 1.0271\n",
      "Epoch: 09, Loss: 1.0212\n",
      "Epoch: 10, Loss: 1.0156\n",
      "Epoch: 11, Loss: 1.0100\n",
      "Epoch: 12, Loss: 1.0045\n",
      "Epoch: 13, Loss: 0.9991\n",
      "Epoch: 14, Loss: 0.9939\n",
      "Epoch: 15, Loss: 0.9890\n",
      "Epoch: 16, Loss: 0.9839\n",
      "Epoch: 17, Loss: 0.9789\n",
      "Epoch: 18, Loss: 0.9741\n",
      "Epoch: 19, Loss: 0.9695\n",
      "Epoch: 20, Loss: 0.9649\n",
      "Epoch: 21, Loss: 0.9605\n",
      "Epoch: 22, Loss: 0.9559\n",
      "Epoch: 23, Loss: 0.9517\n",
      "Epoch: 24, Loss: 0.9474\n",
      "Epoch: 25, Loss: 0.9434\n",
      "Epoch: 26, Loss: 0.9394\n",
      "Epoch: 27, Loss: 0.9355\n",
      "Epoch: 28, Loss: 0.9315\n",
      "Epoch: 29, Loss: 0.9279\n",
      "Epoch: 30, Loss: 0.9241\n",
      "Epoch: 31, Loss: 0.9204\n",
      "Epoch: 32, Loss: 0.9169\n",
      "Epoch: 33, Loss: 0.9134\n",
      "Epoch: 34, Loss: 0.9101\n",
      "Epoch: 35, Loss: 0.9066\n",
      "Epoch: 36, Loss: 0.9036\n",
      "Epoch: 37, Loss: 0.9002\n",
      "Epoch: 38, Loss: 0.8972\n",
      "Epoch: 39, Loss: 0.8940\n",
      "Epoch: 40, Loss: 0.8912\n",
      "Epoch: 41, Loss: 0.8883\n",
      "Epoch: 42, Loss: 0.8855\n",
      "Epoch: 43, Loss: 0.8827\n",
      "Epoch: 44, Loss: 0.8799\n",
      "Epoch: 45, Loss: 0.8772\n",
      "Epoch: 46, Loss: 0.8746\n",
      "Epoch: 47, Loss: 0.8720\n",
      "Epoch: 48, Loss: 0.8696\n",
      "Epoch: 49, Loss: 0.8670\n",
      "Epoch: 50, Loss: 0.8647\n"
     ]
    }
   ],
   "execution_count": 11
  },
  {
   "metadata": {
    "ExecuteTime": {
     "end_time": "2025-02-17T14:20:42.168448Z",
     "start_time": "2025-02-17T14:20:42.130198Z"
    }
   },
   "cell_type": "code",
   "source": "torch.save(model.state_dict(), '../data/node2vec.pt')",
   "outputs": [],
   "execution_count": 12
  },
  {
   "metadata": {},
   "cell_type": "code",
   "outputs": [],
   "execution_count": null,
   "source": ""
  }
 ],
 "metadata": {
  "kernelspec": {
   "display_name": "Python 3",
   "language": "python",
   "name": "python3"
  },
  "language_info": {
   "codemirror_mode": {
    "name": "ipython",
    "version": 3
   },
   "file_extension": ".py",
   "mimetype": "text/x-python",
   "name": "python",
   "nbconvert_exporter": "python",
   "pygments_lexer": "ipython3",
   "version": "3.9.21"
  }
 },
 "nbformat": 4,
 "nbformat_minor": 2
}
