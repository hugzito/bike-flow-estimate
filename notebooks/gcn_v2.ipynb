{
 "cells": [
  {
   "cell_type": "markdown",
   "metadata": {},
   "source": [
    "### USE PYG ENVIRONMENT!!!!"
   ]
  },
  {
   "cell_type": "code",
   "execution_count": null,
   "metadata": {},
   "outputs": [],
   "source": [
    "\n",
    "# # ### USE PYG ENVIRONMENT!!!!\n",
    "# # !pip install torch\n",
    "\n",
    "\n",
    "# # %%\n",
    "# # Install required packages\n",
    "# import os, torch\n",
    "\n",
    "# os.environ['TORCH'] = torch.__version__\n",
    "# !pip install pyg-lib -f https://data.pyg.org/whl/nightly/torch-${TORCH}.html\n",
    "# !pip install git+https://github.com/pyg-team/pytorch_geometric.git\n",
    "\n",
    "# !pip install sentence_transformers\n",
    "# !pip3 install fuzzywuzzy[speedup]\n",
    "# !pip install captum\n",
    "# !pip install torch-sparse\n",
    "# !pip install torch-scatter\n"
   ]
  },
  {
   "cell_type": "code",
   "execution_count": null,
   "metadata": {},
   "outputs": [],
   "source": [
    "\n",
    "import os, torch\n",
    "\n",
    "### load graph data \n",
    "import pickle\n",
    "\n",
    "with open('../data/graphs/linegraph_tg.pkl', 'rb') as f:\n",
    "    data = pickle.load(f)\n",
    "\n",
    "import os, torch\n",
    "\n",
    "from torch_geometric.data import DataLoader\n",
    "import torch_geometric.transforms as T\n",
    "import numpy as np\n",
    "\n",
    "train_data, val_data, test_data = T.RandomLinkSplit(\n",
    "    num_val=0.1,\n",
    "    num_test=0.1, \n",
    ")(data)\n"
   ]
  },
  {
   "cell_type": "code",
   "execution_count": null,
   "metadata": {},
   "outputs": [],
   "source": [
    "from torch_geometric.loader import NeighborLoader\n",
    "\n",
    "# Convert boolean masks to indices\n",
    "data.train_mask = data.y > 0\n",
    "train_nodes = data.train_mask.nonzero(as_tuple=False)\n",
    "batch_size = 1\n",
    "\n",
    "# Set the input nodes for the loader\n",
    "loader = NeighborLoader(data, batch_size=batch_size,\n",
    "                        shuffle=True, \n",
    "                        num_neighbors=[-1]*50,\n",
    "                        input_nodes=train_nodes)  # Use the indices instead of the boolean mask\n"
   ]
  },
  {
   "cell_type": "code",
   "execution_count": null,
   "metadata": {},
   "outputs": [],
   "source": [
    "import torch\n",
    "from torch_geometric.nn import MessagePassing\n",
    "from torch_geometric.data import Data\n",
    "import torch\n",
    "from torch.nn import Linear\n",
    "import torch.nn.functional as F\n",
    "from torch_geometric.nn import GCNConv\n",
    "\n",
    "class GCN(torch.nn.Module):\n",
    "    def __init__(self, hidden_channels):\n",
    "        super().__init__()\n",
    "        torch.manual_seed(80085)\n",
    "        self.conv1 = GCNConv(data.num_features, hidden_channels)\n",
    "        self.conv2 = GCNConv(hidden_channels, hidden_channels)\n",
    "        self.lin =  Linear(hidden_channels, 1)\n",
    "\n",
    "    def forward(self, x, edge_index):\n",
    "        x = self.conv1(x, edge_index)\n",
    "        x = x.relu()\n",
    "        x = F.dropout(x, p=0.5, training=self.training)\n",
    "        x = self.conv2(x, edge_index)\n",
    "        x = F.dropout(x, p=0.5, training=self.training)\n",
    "        x = self.lin(x)\n",
    "        return x\n"
   ]
  },
  {
   "cell_type": "code",
   "execution_count": null,
   "metadata": {},
   "outputs": [],
   "source": [
    "# !pip3 install seaborn\n",
    "import seaborn as sns\n",
    "import matplotlib.pyplot as plt\n",
    "import pandas as pd\n"
   ]
  },
  {
   "cell_type": "code",
   "execution_count": null,
   "metadata": {},
   "outputs": [],
   "source": [
    "model = GCN(hidden_channels=20)\n"
   ]
  },
  {
   "cell_type": "code",
   "execution_count": null,
   "metadata": {},
   "outputs": [],
   "source": [
    "\n",
    "optimizer = torch.optim.Adam(model.parameters(), lr=1e-3)\n",
    "criterion = torch.nn.MSELoss()\n"
   ]
  },
  {
   "cell_type": "code",
   "execution_count": null,
   "metadata": {},
   "outputs": [],
   "source": [
    "def train():\n",
    "    model.train()\n",
    "    optimizer.zero_grad()  # Clear gradients\n",
    "    losses = []\n",
    "    first = True\n",
    "    for batch in loader:\n",
    "        out = model(batch.x, batch.edge_index)\n",
    "        loss = criterion(out[0], batch.y[0])\n",
    "        loss.backward()  # Backward pass.\n",
    "        optimizer.step()\n",
    "        losses.append(loss.item())\n",
    "        if first:\n",
    "            print(out[0], batch.y[0], loss.item())\n",
    "            first = False\n",
    "    return torch.tensor(losses).mean().item()\n",
    "\n",
    "epochs, losses = [], []\n",
    "for epoch in range(1, 10000):\n",
    "    loss = train()\n",
    "    epochs.append(epoch)\n",
    "    losses.append(loss)\n",
    "    # if epoch % 10 == 0:\n",
    "    print(f'Epoch: {epoch:03d}, Loss: {loss}')\n"
   ]
  },
  {
   "cell_type": "code",
   "execution_count": null,
   "metadata": {},
   "outputs": [],
   "source": []
  }
 ],
 "metadata": {
  "kernelspec": {
   "display_name": "py9",
   "language": "python",
   "name": "python3"
  },
  "language_info": {
   "codemirror_mode": {
    "name": "ipython",
    "version": 3
   },
   "file_extension": ".py",
   "mimetype": "text/x-python",
   "name": "python",
   "nbconvert_exporter": "python",
   "pygments_lexer": "ipython3",
   "version": "3.9.0"
  }
 },
 "nbformat": 4,
 "nbformat_minor": 2
}
