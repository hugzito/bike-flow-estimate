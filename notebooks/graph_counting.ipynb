{
 "cells": [
  {
   "cell_type": "code",
   "execution_count": null,
   "metadata": {},
   "outputs": [],
   "source": [
    "import torch\n",
    "from torch_geometric.data import Data\n",
    "import torch_geometric as tg\n",
    "import osmnx as ox\n",
    "import networkx as nx\n",
    "import matplotlib.pyplot as plt\n",
    "import numpy as np\n",
    "import pandas as pd\n",
    "import geopandas as gpd\n",
    "import folium\n",
    "from folium import plugins\n",
    "from folium.plugins import HeatMap\n",
    "from shapely.geometry import Point, LineString, Polygon\n",
    "import shapely\n",
    "import momepy as mp \n",
    "import esda\n",
    "import seaborn as sns\n",
    "sns.set_theme()\n",
    "import pickle\n",
    "\n",
    "with open('../data/graphs/linegraph_nx.pkl', 'rb') as f:\n",
    "    G = pickle.load(f)\n",
    "nodes_to_check = []\n",
    "for i in G.nodes(data=True):\n",
    "    if i[1]['aadt'] > 0:\n",
    "        nodes_to_check.append(i[0])\n",
    "import tqdm\n",
    "from itertools import combinations  \n",
    "\n",
    "a = nodes_to_check\n",
    "res = list(combinations(a, 2))\n",
    "\n",
    "print(len(res))\n",
    "paths = []\n",
    "for node_pair in tqdm.tqdm(res):\n",
    "    try:\n",
    "        path = nx.shortest_path(G, node_pair[0], node_pair[1], weight='length')\n",
    "        paths.append(path)\n",
    "    except:\n",
    "        pass\n"
   ]
  },
  {
   "cell_type": "code",
   "execution_count": null,
   "metadata": {},
   "outputs": [],
   "source": []
  }
 ],
 "metadata": {
  "kernelspec": {
   "display_name": ".venv",
   "language": "python",
   "name": "python3"
  },
  "language_info": {
   "codemirror_mode": {
    "name": "ipython",
    "version": 3
   },
   "file_extension": ".py",
   "mimetype": "text/x-python",
   "name": "python",
   "nbconvert_exporter": "python",
   "pygments_lexer": "ipython3",
   "version": "3.12.6"
  }
 },
 "nbformat": 4,
 "nbformat_minor": 2
}
