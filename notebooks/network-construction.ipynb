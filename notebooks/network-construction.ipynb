{
 "cells": [
  {
   "cell_type": "markdown",
   "metadata": {},
   "source": [
    "## Baseline GCN testing\n",
    "Notebook to create and evaluate GCN against EBC on predicting number of passing bicyclists in *copenhagen?*\n",
    "- Preprocess EBC for graph DONE\n",
    "- Assign Metrics from data\n",
    "- Create Torch Graph\n",
    "- Evaluate against SOTA"
   ]
  },
  {
   "cell_type": "code",
   "execution_count": null,
   "metadata": {},
   "outputs": [],
   "source": [
    "import torch\n",
    "from torch_geometric.data import Data\n",
    "import torch_geometric as tg\n",
    "import osmnx as ox\n",
    "import networkx as nx\n",
    "import matplotlib.pyplot as plt\n",
    "import numpy as np\n",
    "import pandas as pd\n",
    "import geopandas as gpd\n",
    "import folium\n",
    "from folium import plugins\n",
    "from folium.plugins import HeatMap\n",
    "from shapely.geometry import Point, LineString, Polygon\n",
    "import shapely\n",
    "import momepy as mp \n",
    "import esda\n",
    "import seaborn as sns\n",
    "from shapely.strtree import STRtree\n",
    "import pickle\n",
    "from tqdm import tqdm\n",
    "\n",
    "import os, glob, sys\n",
    "\n",
    "print(os.path.exists('../scripts/bike_functions.py'))\n",
    "import sys\n",
    "sys.path.append('../scripts')\n",
    "from bike_functions import *\n",
    "\n",
    "sns.set_theme()"
   ]
  },
  {
   "cell_type": "code",
   "execution_count": null,
   "metadata": {},
   "outputs": [],
   "source": [
    "lat, lon = 55.6867243, 12.5700724 # Copenhagen coordinates\n",
    "dist = 10000 # Distance in meters to fetch data\n",
    "\n",
    "features = [\n",
    "    'aerialway',\n",
    "    'aeroway',\n",
    "    'amenity',\n",
    "    'barrier',\n",
    "    'boundary',\n",
    "    'building',\n",
    "    'craft',\n",
    "    'emergency',\n",
    "    'geological',\n",
    "    'healthcare',\n",
    "    'highway',\n",
    "    'historic',\n",
    "    'landuse',\n",
    "    'leisure',\n",
    "    'man_made',\n",
    "    'military',\n",
    "    'natural',\n",
    "    'office',\n",
    "    'place',\n",
    "    'power',\n",
    "    'public_transport',\n",
    "    'railway',\n",
    "    'route',\n",
    "    'service',\n",
    "    'shop',\n",
    "    'telecom',\n",
    "    'tourism',\n",
    "    'water',\n",
    "    'waterway',\n",
    "] # List of all features in OSMnx\n",
    "\n",
    "# features = 'amenity shop building aerialway aeroway barrier boundary craft emergency highway historic landuse leisure healthcare military natural office power public_transport railway place service tourism waterway route water'.split()\n",
    "\n",
    "# expand_features = features # If all features should be expanded\n",
    "expand_features = [] # If none of the features should be expanded\n"
   ]
  },
  {
   "cell_type": "code",
   "execution_count": null,
   "metadata": {},
   "outputs": [],
   "source": [
    "g, gdf, amenities = get_city_graph(lat,\n",
    "                                    lon,\n",
    "                                    dist,\n",
    "                                    features = features, \n",
    "                                    expand_features = expand_features)"
   ]
  },
  {
   "cell_type": "code",
   "execution_count": null,
   "metadata": {},
   "outputs": [],
   "source": [
    "H = create_linegraph(g)\n"
   ]
  },
  {
   "cell_type": "markdown",
   "metadata": {},
   "source": [
    "### EBC Calculation"
   ]
  },
  {
   "cell_type": "code",
   "execution_count": null,
   "metadata": {},
   "outputs": [],
   "source": [
    "bc = calc_bc(H)\n",
    "nx.set_node_attributes(H, bc, 'bc')\n"
   ]
  },
  {
   "cell_type": "code",
   "execution_count": null,
   "metadata": {},
   "outputs": [],
   "source": [
    "gdf_new = load_aadt('../data/raw/trafiktaelling.json', g, gdf)\n"
   ]
  },
  {
   "cell_type": "code",
   "execution_count": null,
   "metadata": {},
   "outputs": [],
   "source": [
    "H = assign_aadt_to_graph_edges(g, gdf_new, H, aadt_col='aadt_cykler')\n"
   ]
  },
  {
   "cell_type": "code",
   "execution_count": null,
   "metadata": {},
   "outputs": [],
   "source": [
    "assign_features_to_nodes(H, amenities, geometry_col='geometry', amenity_col='amenity')"
   ]
  },
  {
   "cell_type": "code",
   "execution_count": null,
   "metadata": {},
   "outputs": [],
   "source": [
    "for node, value in H.nodes(data=True):\n",
    "    if 'aadt' not in value.keys():\n",
    "        value['aadt'] = 0\n"
   ]
  },
  {
   "cell_type": "code",
   "execution_count": null,
   "metadata": {},
   "outputs": [],
   "source": [
    "all_feats = clean_and_standardize_node_features(H, remove_fields=None)\n"
   ]
  },
  {
   "cell_type": "code",
   "execution_count": null,
   "metadata": {},
   "outputs": [],
   "source": [
    "def graph_to_linegraph_data(H, all_feats, target_feat='aadt', osmid_feat='osmid'):\n",
    "    \"\"\"\n",
    "    Converts a networkx graph H with node and edge attributes into a PyTorch Geometric Data object.\n",
    "    \n",
    "    Parameters:\n",
    "    - H: networkx graph with node features.\n",
    "    - all_feats: list of feature names to extract from nodes.\n",
    "    - target_feat: feature to use as the target variable (default 'aadt').\n",
    "    - osmid_feat: feature to use as osmid identifier (default 'osmid').\n",
    "    \n",
    "    Returns:\n",
    "    - PyTorch Geometric Data object with node features, targets, osmid, and edge index.\n",
    "    \"\"\"\n",
    "    node_list, x, y, osmid_list = [], [], [], []\n",
    "\n",
    "    node_feat_names = [i for i in all_feats if i not in [target_feat, osmid_feat]]\n",
    "    for node, feats in H.nodes(data=True):\n",
    "        node_list.append(node)\n",
    "        x.append([feats.get(feat, 0.0) for feat in all_feats if feat not in [target_feat, osmid_feat]])\n",
    "        y.append(feats[target_feat])\n",
    "        osmid_list.append(feats[osmid_feat])\n",
    "\n",
    "    node_idx = {node: idx for idx, node in enumerate(node_list)}\n",
    "\n",
    "    edge_index = [[node_idx[s], node_idx[t]] for s, t in H.edges()]\n",
    "\n",
    "    data = Data()\n",
    "    data.num_nodes = len(node_list)\n",
    "    data.x = torch.tensor(x, dtype=torch.float)\n",
    "    data.y = torch.tensor(y, dtype=torch.float)\n",
    "    data.osmid = torch.tensor(osmid_list, dtype=torch.long)\n",
    "    data.edge_index = torch.tensor(edge_index, dtype=torch.long).t()\n",
    "    # data.H = H  # Optional: Attach original H graph if needed\n",
    "\n",
    "    return data, node_feat_names"
   ]
  },
  {
   "cell_type": "code",
   "execution_count": null,
   "metadata": {},
   "outputs": [],
   "source": [
    "linegraph, node_feat_names = graph_to_linegraph_data(H, all_feats, target_feat='aadt', osmid_feat='osmid')\n",
    "linegraph.feat_names = node_feat_names"
   ]
  },
  {
   "cell_type": "code",
   "execution_count": null,
   "metadata": {},
   "outputs": [],
   "source": [
    "assert linegraph.edge_index.shape[0] == 2\n",
    "assert linegraph.edge_index.shape[1] == linegraph.edge_attr.shape[0] if 'edge_attr' in linegraph else True\n",
    "assert linegraph.x.shape[0] == linegraph.num_nodes\n"
   ]
  },
  {
   "cell_type": "code",
   "execution_count": null,
   "metadata": {},
   "outputs": [],
   "source": [
    "# import contextily as cx\n",
    "# import matplotlib.pyplot as plt\n",
    "# from shapely.geometry import Point\n",
    "# import geopandas as gpd\n",
    "\n",
    "# # Reproject point to match gdf CRS\n",
    "# point = Point(lon, lat)\n",
    "# gdf_point = gpd.GeoDataFrame(geometry=[point], crs='epsg:4326').to_crs(gdf.crs)\n",
    "\n",
    "# # Plot base gdf\n",
    "# fig, ax = plt.subplots(figsize=(15, 10))\n",
    "# gdf.plot(ax=ax, legend=True, markersize=1, alpha=0.5)\n",
    "\n",
    "# # Add basemap\n",
    "# cx.add_basemap(ax, crs=gdf.crs, source=cx.providers.CartoDB.Positron)\n",
    "\n",
    "# # Now plot the point on top\n",
    "# gdf_point.plot(ax=ax, color='red', markersize=100, label='Center Point')\n",
    "\n",
    "# # Optional: remove axis\n",
    "# plt.axis('off')\n",
    "# plt.show()\n"
   ]
  },
  {
   "cell_type": "code",
   "execution_count": null,
   "metadata": {},
   "outputs": [],
   "source": [
    "# amenities = amenities.to_crs(gdf.crs)"
   ]
  },
  {
   "cell_type": "code",
   "execution_count": null,
   "metadata": {},
   "outputs": [],
   "source": [
    "# ### remove all linestring geometries in amenities\n",
    "# # convert polygon geometries to centroids\n",
    "# amenities['geometry'] = amenities.geometry.centroid\n",
    "# # remove points outside the bounding box of the graph\n",
    "# amenities = amenities[amenities.geometry.within(gdf.unary_union.envelope)]\n",
    "# # convert amenities to points\n",
    "# amenities = amenities.set_geometry('geometry')"
   ]
  },
  {
   "cell_type": "code",
   "execution_count": null,
   "metadata": {},
   "outputs": [],
   "source": [
    "# fig, ax = plt.subplots(figsize=(15, 10))\n",
    "# amenities.plot(ax=ax, legend=True, markersize=10, alpha=0.5)\n",
    "# gdf_point = gpd.GeoDataFrame(geometry=[point], crs='epsg:4326').to_crs(gdf.crs)\n",
    "\n",
    "# # Add basemap\n",
    "# cx.add_basemap(ax, crs=amenities.crs, source=cx.providers.CartoDB.Positron)\n",
    "# gdf_point.plot(ax=ax, color='red', markersize=100, label='Center Point')\n",
    "\n",
    "# # Optional: remove axis\n",
    "# plt.axis('off')\n",
    "# plt.show()"
   ]
  },
  {
   "cell_type": "code",
   "execution_count": null,
   "metadata": {},
   "outputs": [],
   "source": [
    "save_graph_with_config(\n",
    "    linegraph, \n",
    "    H, \n",
    "    g,\n",
    "    features, \n",
    "    expand_features, \n",
    "    dist\n",
    ")"
   ]
  },
  {
   "cell_type": "code",
   "execution_count": null,
   "metadata": {},
   "outputs": [],
   "source": [
    "# your_graph_number = 17\n",
    "# ### save g and h\n",
    "# with open(f'../data/graphs/{your_graph_number}/graph.pkl', 'wb') as f:\n",
    "#     pickle.dump(g, f)\n",
    "# with open(f'../data/graphs/{your_graph_number}/linegraph.pkl', 'wb') as f:\n",
    "#     pickle.dump(H, f)"
   ]
  }
 ],
 "metadata": {
  "kernelspec": {
   "display_name": ".venv",
   "language": "python",
   "name": "python3"
  },
  "language_info": {
   "codemirror_mode": {
    "name": "ipython",
    "version": 3
   },
   "file_extension": ".py",
   "mimetype": "text/x-python",
   "name": "python",
   "nbconvert_exporter": "python",
   "pygments_lexer": "ipython3",
   "version": "3.12.6"
  }
 },
 "nbformat": 4,
 "nbformat_minor": 2
}
