{
 "cells": [
  {
   "cell_type": "markdown",
   "metadata": {},
   "source": [
    "## Baseline GCN testing\n",
    "Notebook to create and evaluate GCN against EBC on predicting number of passing bicyclists in *copenhagen?*\n",
    "- Preprocess EBC for graph DONE\n",
    "- Assign Metrics from data\n",
    "- Create Torch Graph\n",
    "- Evaluate against SOTA"
   ]
  },
  {
   "cell_type": "code",
   "execution_count": null,
   "metadata": {},
   "outputs": [],
   "source": [
    "import torch\n",
    "from torch_geometric.data import Data\n",
    "import torch_geometric as tg\n",
    "import osmnx as ox\n",
    "import networkx as nx\n",
    "import matplotlib.pyplot as plt\n",
    "import numpy as np\n",
    "import pandas as pd\n",
    "import geopandas as gpd\n",
    "import folium\n",
    "from folium import plugins\n",
    "from folium.plugins import HeatMap\n",
    "from shapely.geometry import Point, LineString, Polygon\n",
    "import shapely\n",
    "import momepy as mp \n",
    "import esda\n",
    "import seaborn as sns\n",
    "from shapely.strtree import STRtree\n",
    "import pickle\n",
    "from tqdm import tqdm\n",
    "\n",
    "import os, glob, sys\n",
    "\n",
    "print(os.path.exists('../scripts/bike_functions.py'))\n",
    "import sys\n",
    "sys.path.append('../scripts')\n",
    "from bike_functions import *\n",
    "\n",
    "sns.set_theme()\n"
   ]
  },
  {
   "cell_type": "code",
   "execution_count": null,
   "metadata": {},
   "outputs": [],
   "source": [
    "lat, lon = 55.6867243, 12.5700724\n",
    "dist = 10000\n",
    "\n",
    "features = [\n",
    "    'aerialway',\n",
    "    'aeroway',\n",
    "    'amenity',\n",
    "    'barrier',\n",
    "    'boundary',\n",
    "    'building',\n",
    "    'craft',\n",
    "    'emergency',\n",
    "    'geological',\n",
    "    'healthcare',\n",
    "    'highway',\n",
    "    'historic',\n",
    "    'landuse',\n",
    "    'leisure',\n",
    "    'man_made',\n",
    "    'military',\n",
    "    'natural',\n",
    "    'office',\n",
    "    'place',\n",
    "    'power',\n",
    "    'public_transport',\n",
    "    'railway',\n",
    "    'route',\n",
    "    'shop',\n",
    "    'telecom',\n",
    "    'tourism',\n",
    "    'water',\n",
    "    'waterway',\n",
    "]\n",
    "features = 'natural,military,man_made,barrier,shop,building,aeroway,landuse,place,railway,historic,power,public_transport,leisure,office,tourism,water,width,telecom,emergency,healthcare,waterway,boundary,craft,route,aerialway,service'.split(',')\n",
    "expand_features = [\n",
    "    # 'shop',\n",
    "    # 'route', \n",
    "    # 'highway', \n",
    "    # 'waterway', \n",
    "    # 'width', \n",
    "    # 'length', \n",
    "    # 'aerialway', \n",
    "    # 'power', \n",
    "    # 'healthcare'\n",
    "]\n",
    "expand_features = features\n"
   ]
  },
  {
   "cell_type": "code",
   "execution_count": null,
   "metadata": {},
   "outputs": [],
   "source": [
    "g, gdf, amenities = get_city_graph(lat,\n",
    "                                    lon,\n",
    "                                    dist,\n",
    "                                    features = features, \n",
    "                                    expand_features = expand_features)\n"
   ]
  },
  {
   "cell_type": "code",
   "execution_count": null,
   "metadata": {},
   "outputs": [],
   "source": [
    "H = create_linegraph(g)\n"
   ]
  },
  {
   "cell_type": "markdown",
   "metadata": {},
   "source": [
    "### EBC Calculation"
   ]
  },
  {
   "cell_type": "code",
   "execution_count": null,
   "metadata": {},
   "outputs": [],
   "source": [
    "bc = calc_bc(H)\n",
    "nx.set_node_attributes(H, bc, 'bc')\n"
   ]
  },
  {
   "cell_type": "code",
   "execution_count": null,
   "metadata": {},
   "outputs": [],
   "source": [
    "gdf_new = load_aadt('../data/raw/trafiktaelling.json', g, gdf)\n"
   ]
  },
  {
   "cell_type": "code",
   "execution_count": null,
   "metadata": {},
   "outputs": [],
   "source": [
    "H = assign_aadt_to_graph_edges(g, gdf_new, H, aadt_col='aadt_cykler')\n"
   ]
  },
  {
   "cell_type": "code",
   "execution_count": null,
   "metadata": {},
   "outputs": [],
   "source": [
    "assign_features_to_nodes(H, amenities, geometry_col='geometry', amenity_col='amenity')"
   ]
  },
  {
   "cell_type": "code",
   "execution_count": null,
   "metadata": {},
   "outputs": [],
   "source": [
    "# print the number of nodes in H with the attribute 'aadt'\n",
    "print(f\"Number of nodes in H with 'aadt' attribute: {sum(1 for _, data in H.nodes(data=True) if 'aadt' in data)}\")\n"
   ]
  },
  {
   "cell_type": "code",
   "execution_count": null,
   "metadata": {},
   "outputs": [],
   "source": [
    "for node, value in H.nodes(data=True):\n",
    "    if 'aadt' not in value.keys():\n",
    "        value['aadt'] = 0\n"
   ]
  },
  {
   "cell_type": "code",
   "execution_count": null,
   "metadata": {},
   "outputs": [],
   "source": [
    "all_feats = clean_and_standardize_node_features(H, remove_fields=None)\n"
   ]
  },
  {
   "cell_type": "code",
   "execution_count": null,
   "metadata": {},
   "outputs": [],
   "source": [
    "### save node features in dataframe\n",
    "node_features = []\n",
    "for node in H.nodes(data=True):\n",
    "    node_features.append(node[1])\n",
    "node_features = pd.DataFrame(node_features).drop(columns=['aadt', 'osmid'])\n"
   ]
  },
  {
   "cell_type": "code",
   "execution_count": null,
   "metadata": {},
   "outputs": [],
   "source": [
    "linegraph = graph_to_linegraph_data(H, all_feats, target_feat='aadt', osmid_feat='osmid')\n"
   ]
  },
  {
   "cell_type": "code",
   "execution_count": null,
   "metadata": {},
   "outputs": [],
   "source": [
    "assert linegraph.edge_index.shape[0] == 2\n",
    "assert linegraph.edge_index.shape[1] == linegraph.edge_attr.shape[0] if 'edge_attr' in linegraph else True\n",
    "assert linegraph.x.shape[0] == linegraph.num_nodes\n"
   ]
  },
  {
   "cell_type": "code",
   "execution_count": null,
   "metadata": {},
   "outputs": [],
   "source": [
    "save_graph_with_config(\n",
    "    linegraph, \n",
    "    H, \n",
    "    node_features, \n",
    "    features, \n",
    "    expand_features, \n",
    "    dist\n",
    ")"
   ]
  }
 ],
 "metadata": {
  "kernelspec": {
   "display_name": ".venv",
   "language": "python",
   "name": "python3"
  },
  "language_info": {
   "codemirror_mode": {
    "name": "ipython",
    "version": 3
   },
   "file_extension": ".py",
   "mimetype": "text/x-python",
   "name": "python",
   "nbconvert_exporter": "python",
   "pygments_lexer": "ipython3",
   "version": "3.12.6"
  }
 },
 "nbformat": 4,
 "nbformat_minor": 2
}
