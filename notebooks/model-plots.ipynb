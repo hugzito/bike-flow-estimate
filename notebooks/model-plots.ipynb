{
 "cells": [
  {
   "cell_type": "code",
   "execution_count": null,
   "metadata": {},
   "outputs": [],
   "source": [
    "import pandas as pd\n",
    "import seaborn as sns\n",
    "import matplotlib.pyplot as plt\n",
    "from sklearn.metrics import confusion_matrix\n",
    "\n",
    "df = pd.read_csv('predictions.csv')\n",
    "\n",
    "df['y_true'] = df['target']\n",
    "df['y_pred'] = df['predicted']\n",
    "\n",
    "cm = confusion_matrix(df['y_true'], df['y_pred'])\n",
    "sns.heatmap(cm, annot=True, fmt='d')\n",
    "plt.title('Confusion Matrix')\n",
    "plt.xlabel('Predicted')\n",
    "plt.ylabel('True')\n",
    "\n",
    "plt.show()\n"
   ]
  },
  {
   "cell_type": "code",
   "execution_count": null,
   "metadata": {},
   "outputs": [],
   "source": [
    "df['diff'] = df['y_pred'] - df['y_true']\n",
    "sns.histplot(df['diff'], bins=range(-11, 11), discrete=True)\n",
    "plt.show()\n"
   ]
  },
  {
   "cell_type": "code",
   "execution_count": null,
   "metadata": {},
   "outputs": [],
   "source": [
    "## get proportion of predictions within 1 distance of true value\n",
    "df['within_1'] = df['diff'].abs() <= 1\n",
    "within_1 = df['within_1'].sum() / len(df)\n",
    "print(f'Proportion of predictions within 1 distance of true value: {within_1:.2%}')\n"
   ]
  },
  {
   "cell_type": "code",
   "execution_count": null,
   "metadata": {},
   "outputs": [],
   "source": [
    "sns.histplot(df['y_true'], color='blue', label='y_true', bins=10, discrete=True)\n",
    "sns.histplot(df['y_pred'], color='red', label='y_pred', bins=10, discrete=True)\n",
    "plt.legend()\n",
    "plt.show()\n"
   ]
  },
  {
   "cell_type": "code",
   "execution_count": null,
   "metadata": {},
   "outputs": [],
   "source": []
  }
 ],
 "metadata": {
  "kernelspec": {
   "display_name": "Python 3",
   "language": "python",
   "name": "python3"
  },
  "language_info": {
   "codemirror_mode": {
    "name": "ipython",
    "version": 3
   },
   "file_extension": ".py",
   "mimetype": "text/x-python",
   "name": "python",
   "nbconvert_exporter": "python",
   "pygments_lexer": "ipython3",
   "version": "3.9.21"
  }
 },
 "nbformat": 4,
 "nbformat_minor": 2
}
