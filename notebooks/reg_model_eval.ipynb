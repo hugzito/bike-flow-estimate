{
 "cells": [
  {
   "cell_type": "code",
   "execution_count": null,
   "id": "77313ce3",
   "metadata": {},
   "outputs": [],
   "source": [
    "import sys\n",
    "sys.path.append(\"../scripts\")\n",
    "\n",
    "import os, torch\n",
    "from sklearn.model_selection import train_test_split\n",
    "import pickle\n",
    "import torch_geometric.transforms as T\n",
    "import numpy as np\n",
    "from torch_geometric.nn.models import Node2Vec\n",
    "from torch_geometric.data import DataLoader\n",
    "from torch_geometric.nn import MessagePassing\n",
    "from torch_geometric.data import Data\n",
    "from torch.nn import Linear\n",
    "import torch.nn.functional as F\n",
    "from torch_geometric.nn import GCNConv, GATConv\n",
    "GCNConv._orig_propagate = GCNConv.propagate\n",
    "import matplotlib.pyplot as plt\n",
    "from sklearn.preprocessing import StandardScaler\n",
    "from torch_geometric.explain import GNNExplainer, Explainer\n",
    "from sklearn.metrics import r2_score, mean_absolute_error\n",
    "from models import *\n",
    "from tg_functions import *\n",
    "\n",
    "dropout_p = 0.5\n",
    "bins = [int(i) for i in os.getenv(\"BINS\", \"400 800 1300 2100 3000 3700 4700 7020 9660\").split(' ')]\n",
    "bins = torch.tensor(bins, device='cuda' if torch.cuda.is_available() else 'cpu')\n",
    "random_seed = 100\n",
    "\n",
    "torch.manual_seed(random_seed)\n",
    "torch.cuda.manual_seed(random_seed)\n",
    "\n",
    "graph_num = 26  # Replace with your graph number\n",
    "\n",
    "model_name = 'silver-eon-120'\n",
    "\n",
    "weight_prefix = 'best_accuracy'  # Replace with your weight prefix\n",
    "\n",
    "if torch.cuda.is_available():\n",
    "    device = torch.device('cuda')\n",
    "    print(f\"Using CUDA device: {torch.cuda.get_device_name(0)}\", flush = True)\n",
    "else:\n",
    "    device = torch.device('cpu')\n",
    "    print(\"Using CPU\", flush = True)\n",
    "\n",
    "\n",
    "with open(f'../data/graphs/{graph_num}/linegraph_tg.pkl', 'rb') as f:\n",
    "    data = pickle.load(f)\n",
    "\n",
    "data.edge_index = data.edge_index.contiguous()\n",
    "data.x = data.x.contiguous()\n",
    "data.y = data.y.contiguous()\n",
    "\n",
    "# Load the model with the GCN class\n",
    "model = torch.load(f'../data/graphs/{graph_num}/models/{model_name}.pt', map_location=device)\n",
    "model = model.to(device)\n",
    "\n",
    "model.load_state_dict(torch.load(f'../data/graphs/{graph_num}/models/{model_name}_{weight_prefix}.pt', map_location=device))\n",
    "\n",
    "model\n"
   ]
  },
  {
   "cell_type": "code",
   "execution_count": null,
   "id": "38e01ac9",
   "metadata": {},
   "outputs": [],
   "source": [
    "data.edge_index = data.edge_index.contiguous()\n",
    "data.x = data.x.contiguous()\n",
    "data.y = data.y.contiguous()\n",
    "print(data.x.shape, data.edge_index.shape, data.y.shape, flush = True)\n",
    "data = stratified_split(data)\n",
    "\n",
    "criterion = torch.nn.MSELoss()\n"
   ]
  },
  {
   "cell_type": "code",
   "execution_count": null,
   "id": "ece68cc3",
   "metadata": {},
   "outputs": [],
   "source": [
    "def evaluate(model, data, critetion):\n",
    "    model.eval()\n",
    "    data.x = data.x.to(device)\n",
    "    data.edge_index = data.edge_index.to(device)\n",
    "    data.val_mask = data.val_mask.to(device)\n",
    "    data.y = data.y.to(device)\n",
    "    mask = data.val_mask.squeeze() & (data.y > 0).squeeze()\n",
    "    out = model(data.x, data.edge_index)\n",
    "    #target = torch.bucketize(data.y[mask], bins).squeeze()\n",
    "    target = data.y[mask].squeeze()\n",
    "    loss = criterion(out[mask].squeeze(), target)\n",
    "    r2 = r2_score(target.detach().cpu().numpy(), out[mask].detach().cpu().numpy())\n",
    "    mae = mean_absolute_error(target.detach().cpu().numpy(), out[mask].detach().cpu().numpy())\n",
    "    return r2, mae\n"
   ]
  },
  {
   "cell_type": "code",
   "execution_count": null,
   "id": "6fc1d759",
   "metadata": {},
   "outputs": [],
   "source": [
    "r2, mae = evaluate(model, data, criterion)\n"
   ]
  },
  {
   "cell_type": "code",
   "execution_count": null,
   "id": "b8c3c07e",
   "metadata": {},
   "outputs": [],
   "source": [
    "print(f\"R2: {r2:.4f}, MAE: {mae:.4f}\", flush = True)\n"
   ]
  },
  {
   "cell_type": "code",
   "execution_count": null,
   "id": "baed09ff",
   "metadata": {},
   "outputs": [],
   "source": []
  }
 ],
 "metadata": {
  "kernelspec": {
   "display_name": "py9",
   "language": "python",
   "name": "python3"
  },
  "language_info": {
   "codemirror_mode": {
    "name": "ipython",
    "version": 3
   },
   "file_extension": ".py",
   "mimetype": "text/x-python",
   "name": "python",
   "nbconvert_exporter": "python",
   "pygments_lexer": "ipython3",
   "version": "3.9.0"
  }
 },
 "nbformat": 4,
 "nbformat_minor": 5
}
