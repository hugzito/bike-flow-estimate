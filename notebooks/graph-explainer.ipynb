{
 "cells": [
  {
   "cell_type": "code",
   "execution_count": 6,
   "id": "9a957d3d",
   "metadata": {},
   "outputs": [
    {
     "name": "stdout",
     "output_type": "stream",
     "text": [
      "Using CPU\n",
      "torch.Size([78168, 31]) torch.Size([2, 152596]) torch.Size([78168])\n"
     ]
    },
    {
     "data": {
      "text/plain": [
       "<All keys matched successfully>"
      ]
     },
     "execution_count": 6,
     "metadata": {},
     "output_type": "execute_result"
    }
   ],
   "source": [
    "import os, torch\n",
    "from sklearn.model_selection import train_test_split\n",
    "import pickle\n",
    "import torch_geometric.transforms as T\n",
    "import numpy as np\n",
    "from torch_geometric.nn.models import Node2Vec\n",
    "from torch_geometric.data import DataLoader\n",
    "from torch_geometric.nn import MessagePassing\n",
    "from torch_geometric.data import Data\n",
    "from torch.nn import Linear\n",
    "import torch.nn.functional as F\n",
    "from torch_geometric.nn import GCNConv, GATConv\n",
    "GCNConv._orig_propagate = GCNConv.propagate\n",
    "\n",
    "import matplotlib.pyplot as plt\n",
    "from sklearn.preprocessing import StandardScaler\n",
    "from torch_geometric.explain import GNNExplainer, Explainer\n",
    "\n",
    "model_name = 'old-womprat-13'  # Replace with your model name\n",
    "# model_name = 'holographic-master-15'  # Replace with your model name\n",
    "graph_num = 17 \n",
    "weight_prefix = 'best_loss'\n",
    "random_seed =  100\n",
    "bins = [int(i) for i in \"400 800 1300 2100 3000 3700 4700 7020 9660\".split(' ')] \n",
    "dropout_p =  0.5\n",
    "epochs = 100\n",
    "\n",
    "\n",
    "bins = torch.tensor(bins, device='cuda' if torch.cuda.is_available() else 'cpu')\n",
    "\n",
    "if torch.cuda.is_available():\n",
    "    device = torch.device('cuda')\n",
    "    print(f\"Using CUDA device: {torch.cuda.get_device_name(0)}\", flush = True)\n",
    "else:\n",
    "    device = torch.device('cpu')\n",
    "    print(\"Using CPU\", flush = True)\n",
    "\n",
    "\n",
    "with open(f'../data/graphs/{graph_num}/linegraph_tg.pkl', 'rb') as f:\n",
    "    data = pickle.load(f)\n",
    "\n",
    "\n",
    "def stratified_split(data, train_ratio=0.7, val_ratio=0.15, test_ratio=0.15):\n",
    "    \"\"\"Splits data into train, validation, and test sets, stratifying by y > 0.\"\"\"\n",
    "\n",
    "    # Create a boolean mask for nodes where y > 0\n",
    "    positive_mask = data.y > 0\n",
    "\n",
    "    # Get indices of positive and negative nodes\n",
    "    positive_indices = positive_mask.nonzero(as_tuple=False).squeeze()\n",
    "    negative_indices = (~positive_mask).nonzero(as_tuple=False).squeeze()\n",
    "\n",
    "    # Split positive indices\n",
    "    pos_train_idx, pos_temp_idx = train_test_split(positive_indices, train_size=train_ratio, random_state=random_seed)  # Adjust random_state for consistent splits\n",
    "    pos_val_idx, pos_test_idx = train_test_split(pos_temp_idx, test_size=(test_ratio / (val_ratio + test_ratio)), random_state=random_seed)\n",
    "\n",
    "    # Split negative indices\n",
    "    neg_train_idx, neg_temp_idx = train_test_split(negative_indices, train_size=train_ratio, random_state=random_seed)\n",
    "    neg_val_idx, neg_test_idx = train_test_split(neg_temp_idx, test_size=(test_ratio / (val_ratio + test_ratio)), random_state=random_seed)\n",
    "\n",
    "    # Combine indices\n",
    "    train_idx = torch.cat([pos_train_idx, neg_train_idx])\n",
    "    val_idx = torch.cat([pos_val_idx, neg_val_idx])\n",
    "    test_idx = torch.cat([pos_test_idx, neg_test_idx])\n",
    "\n",
    "    # Create masks\n",
    "    train_mask = torch.zeros(data.num_nodes, dtype=torch.bool)\n",
    "    val_mask = torch.zeros(data.num_nodes, dtype=torch.bool)\n",
    "    test_mask = torch.zeros(data.num_nodes, dtype=torch.bool)\n",
    "\n",
    "    train_mask[train_idx] = True\n",
    "    val_mask[val_idx] = True\n",
    "    test_mask[test_idx] = True\n",
    "\n",
    "    data.train_mask = train_mask\n",
    "    data.val_mask = val_mask\n",
    "    data.test_mask = test_mask\n",
    "\n",
    "    return data\n",
    "\n",
    "data.edge_index = data.edge_index.contiguous()\n",
    "data.x = data.x.contiguous()\n",
    "data.y = data.y.contiguous()\n",
    "\n",
    "print(data.x.shape, data.edge_index.shape, data.y.shape, flush = True)\n",
    "\n",
    "data = stratified_split(data)\n",
    "\n",
    "# --- Model Definitions ---\n",
    "class GCN(torch.nn.Module):\n",
    "    def __init__(self, hidden_channels, num_layers):\n",
    "        super().__init__()\n",
    "        torch.manual_seed(random_seed)\n",
    "\n",
    "        self.input_layer = GCNConv(data.num_features, hidden_channels, improved=True, cached=True)\n",
    "\n",
    "        # Create intermediate hidden layers (optional)\n",
    "        self.hidden_layers = torch.nn.ModuleList()\n",
    "        for _ in range(num_layers):\n",
    "            self.hidden_layers.append(GCNConv(hidden_channels, hidden_channels, improved=True, cached=True))\n",
    "\n",
    "        self.output_layer = GCNConv(hidden_channels, len(bins) + 1, cached=True)\n",
    "\n",
    "    def forward(self, x, edge_index):\n",
    "        x = self.input_layer(x, edge_index)\n",
    "        x = F.relu(x)\n",
    "        x = F.dropout(x, p=dropout_p, training=self.training)\n",
    "\n",
    "        for layer in self.hidden_layers:\n",
    "            x = layer(x, edge_index)\n",
    "            x = F.relu(x)\n",
    "            x = F.dropout(x, p=dropout_p, training=self.training)\n",
    "\n",
    "        x = self.output_layer(x, edge_index)\n",
    "        return x\n",
    "\n",
    "# Load the model with the GCN class\n",
    "model = torch.load(f'../data/graphs/{graph_num}/models/{model_name}.pt', map_location=device)\n",
    "model = model.to(device)\n",
    "\n",
    "model.load_state_dict(torch.load(f'../data/graphs/{graph_num}/models/{model_name}_{weight_prefix}.pt', map_location=device))\n"
   ]
  },
  {
   "cell_type": "code",
   "execution_count": 7,
   "id": "e9fb6001",
   "metadata": {},
   "outputs": [],
   "source": [
    "# import os\n",
    "# import pickle\n",
    "# from torch_geometric.explain import Explainer, GNNExplainer\n",
    "\n",
    "# # === Parameters ===\n",
    "# explainer_epochs = 50\n",
    "# graph_model_path = f'../data/graphs/{graph_num}/models/{model_name}_{weight_prefix}.pt'\n",
    "# explanation_output_path = f'../data/graphs/{graph_num}/explanations/{model_name}/graph_level_explanation.pkl'\n",
    "# os.makedirs(os.path.dirname(explanation_output_path), exist_ok=True)\n",
    "\n",
    "\n",
    "# # === Wrap in Explainer ===\n",
    "# explainer = Explainer(\n",
    "#     model=model,\n",
    "#     algorithm=GNNExplainer(epochs=explainer_epochs).to(device),\n",
    "#     explanation_type='model',\n",
    "#     node_mask_type='attributes',\n",
    "#     edge_mask_type=None,\n",
    "#     model_config=dict(\n",
    "#         mode='multiclass_classification',\n",
    "#         task_level='graph',\n",
    "#         return_type='log_probs',\n",
    "#     ),\n",
    "# )\n",
    "\n",
    "# # === Run graph-level explanation ===\n",
    "# print(\"🔍 Running graph-level explanation...\")\n",
    "# explanation = explainer(data.x.to(device), data.edge_index.to(device))\n",
    "\n",
    "# # === Save explanation to file ===\n",
    "# with open(explanation_output_path, 'wb') as f:\n",
    "#     pickle.dump(explanation, f)\n",
    "\n",
    "# print(f\"✅ Graph-level explanation saved to: {explanation_output_path}\")\n"
   ]
  },
  {
   "cell_type": "code",
   "execution_count": 8,
   "id": "891b9029",
   "metadata": {},
   "outputs": [],
   "source": [
    "# with open(explanation_output_path, 'rb') as f:\n",
    "#     explanation = pickle.load(f)\n",
    "\n",
    "# explanation.visualize_feature_importance()  # for features\n"
   ]
  },
  {
   "cell_type": "code",
   "execution_count": 9,
   "id": "40cd81cf",
   "metadata": {},
   "outputs": [
    {
     "data": {
      "image/png": "[encoded data removed]",
      "text/plain": [
       "<Figure size 1000x500 with 2 Axes>"
      ]
     },
     "metadata": {},
     "output_type": "display_data"
    }
   ],
   "source": [
    "### visulize test y and val y\n",
    "\n",
    "import seaborn as sns\n",
    "\n",
    "plt.figure(figsize=(10, 5))\n",
    "plt.subplot(1, 2, 1)\n",
    "mask = data.val_mask.squeeze() & (data.y > 0).squeeze()\n",
    "sns.histplot(torch.bucketize(data.y[mask].squeeze(), bins).cpu().numpy(), bins=10)\n",
    "plt.title('Validation Set Distribution')\n",
    "\n",
    "\n",
    "plt.subplot(1, 2, 2)\n",
    "mask = data.test_mask.squeeze() & (data.y > 0).squeeze()\n",
    "sns.histplot(torch.bucketize(data.y[mask].squeeze(), bins).cpu().numpy(), bins=10)\n",
    "plt.title('Test Set Distribution')\n",
    "plt.tight_layout()\n",
    "plt.show()\n"
   ]
  },
  {
   "cell_type": "code",
   "execution_count": 13,
   "id": "38588399",
   "metadata": {},
   "outputs": [
    {
     "data": {
      "text/plain": [
       "96"
      ]
     },
     "execution_count": 13,
     "metadata": {},
     "output_type": "execute_result"
    }
   ],
   "source": [
    "len(data.y[mask])\n"
   ]
  },
  {
   "cell_type": "code",
   "execution_count": null,
   "id": "b3ee93ec",
   "metadata": {},
   "outputs": [],
   "source": []
  }
 ],
 "metadata": {
  "kernelspec": {
   "display_name": "newpyg",
   "language": "python",
   "name": "python3"
  },
  "language_info": {
   "codemirror_mode": {
    "name": "ipython",
    "version": 3
   },
   "file_extension": ".py",
   "mimetype": "text/x-python",
   "name": "python",
   "nbconvert_exporter": "python",
   "pygments_lexer": "ipython3",
   "version": "3.11.0"
  }
 },
 "nbformat": 4,
 "nbformat_minor": 5
}
