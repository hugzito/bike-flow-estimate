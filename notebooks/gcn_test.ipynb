{
 "cells": [
  {
   "cell_type": "markdown",
   "metadata": {},
   "source": [
    "## Baseline GCN testing\n",
    "Notebook to create and evaluate GCN against EBC on predicting number of passing bicyclists in *copenhagen?*\n",
    "- Preprocess EBC for graph DONE\n",
    "- Assign Metrics from data\n",
    "- Create Torch Graph\n",
    "- Evaluate against SOTA"
   ]
  },
  {
   "cell_type": "code",
   "execution_count": null,
   "metadata": {},
   "outputs": [],
   "source": [
    "import torch\n",
    "from torch_geometric.data import Data\n",
    "import torch_geometric as tg\n",
    "import osmnx as ox\n",
    "import networkx as nx\n",
    "import matplotlib.pyplot as plt\n",
    "import numpy as np\n",
    "import pandas as pd\n",
    "import geopandas as gpd\n",
    "import folium\n",
    "from folium import plugins\n",
    "from folium.plugins import HeatMap\n",
    "from shapely.geometry import Point, LineString, Polygon\n",
    "import shapely\n",
    "import momepy as mp \n",
    "import esda\n",
    "import seaborn as sns\n",
    "sns.set_theme()\n",
    "\n",
    "lat, lon = 55.6867243, 12.5700724\n",
    "\n",
    "def get_city_graph(lat, lon, dist, polygonize=False, plot = False):\n",
    "    g = ox.graph_from_point((lat, lon), dist=dist, network_type='bike', simplify=True, retain_all=False)\n",
    "    gdf = mp.nx_to_gdf(g)\n",
    "    edges = gdf[1].to_crs('EPSG:3857')\n",
    "    if polygonize:\n",
    "        linestrings = edges.geometry # our geopandas.GeoSeries of linestrings representing street network\n",
    "        collection = shapely.GeometryCollection(linestrings.array)  # combine to a single object\n",
    "        noded = shapely.node(collection)  # add missing nodes\n",
    "        polygonized = shapely.polygonize(noded.geoms)  # polygonize based on an array of noded parts\n",
    "        polygons = gpd.GeoSeries(polygonized.geoms)  # create a GeoSeries from parts\n",
    "        return g, edges, polygons\n",
    "    if plot:\n",
    "        ### plot the graph\n",
    "        fig, ax = ox.plot_graph(g, node_size=0, edge_linewidth=0.5, show=False, close=False)\n",
    "        edges.plot(ax=ax, linewidth=1, edgecolor='black')\n",
    "        plt.show()\n",
    "    return g, edges\n",
    "\n",
    "g, edges = get_city_graph(lat, lon, 10000)\n",
    "\n",
    "### plot the graph\n",
    "fig, ax = ox.plot_graph(g, node_size=0, edge_linewidth=0.5, show=False, close=False)\n",
    "edges.plot(ax=ax, linewidth=1, edgecolor='black')\n",
    "\n",
    "import nx_parallel as nxp\n",
    "import networkx as nx\n",
    "\n",
    "# enabling networkx's config for nx-parallel\n",
    "nx.config.backends.parallel.active = True\n",
    "\n",
    "# setting `n_jobs` (by default, `n_jobs=None`)\n",
    "nx.config.backends.parallel.n_jobs = 4\n",
    "\n",
    "### carry weights over to line graph\n",
    "H = nx.line_graph(g)\n",
    "H.add_nodes_from((node, g.edges[node]) for node in H)   \n",
    "\n",
    "for s, t, v in H.edges:\n",
    "    H.edges[(s, t, v)]['weight'] = g.edges[s]['length'] + g.edges[t]['length']\n",
    "\n",
    "ebc = dict(nxp.all_pairs_dijkstra_path(H, weight='weight', cutoff=1000))\n"
   ]
  },
  {
   "cell_type": "markdown",
   "metadata": {},
   "source": [
    "### EBC Calculation"
   ]
  },
  {
   "cell_type": "code",
   "execution_count": 2,
   "metadata": {},
   "outputs": [],
   "source": [
    "def calc_bc(shortest_paths, graph):\n",
    "    bc = {i : 0 for i in graph.nodes}\n",
    "    for node in (graph.nodes):\n",
    "        for other_node in shortest_paths[node].keys():\n",
    "            path = shortest_paths[node][other_node]\n",
    "            for node_visited in path:\n",
    "                bc[node_visited] += 1\n",
    "    for node in bc.keys():\n",
    "        bc[node] /= len(graph.nodes)\n",
    "    return bc\n",
    "bc = calc_bc(ebc, H)\n",
    "bc = {k: v for k, v in sorted(bc.items(), key=lambda item: item[1], reverse=True)}\n",
    "\n",
    "\n",
    "### color edges in g by bc\n",
    "bc2 = {}\n",
    "for x, y, z in bc:\n",
    "    bc2[(x, y)] = bc[(x, y, z)]\n",
    "\n",
    "for (s, t), value in bc2.items():\n",
    "    for i in range(len(g[s][t])):\n",
    "        g[s][t][i]['bc'] = value\n"
   ]
  },
  {
   "cell_type": "code",
   "execution_count": 3,
   "metadata": {},
   "outputs": [],
   "source": [
    "g_copy = g.copy()\n",
    "for node in list(g_copy.nodes(data=True)):\n",
    "    for key in list(node[1].keys()):\n",
    "        del node[1][key]\n"
   ]
  },
  {
   "cell_type": "markdown",
   "metadata": {},
   "source": [
    "### Counter data assignment\n",
    "\n",
    "# TODO"
   ]
  },
  {
   "cell_type": "code",
   "execution_count": 27,
   "metadata": {},
   "outputs": [],
   "source": [
    "def counter_assigner(graph, station_list):\n",
    "    ### copy from research project\n",
    "    pass\n"
   ]
  },
  {
   "cell_type": "markdown",
   "metadata": {},
   "source": [
    "### Creating Torch Graph from **edgelist**\n",
    "\n",
    "To be used as we convert graphs with calculated betweenness centralities and run our GCN over them. <br>\n",
    "**TODO: Functionize**"
   ]
  },
  {
   "cell_type": "code",
   "execution_count": null,
   "metadata": {},
   "outputs": [],
   "source": [
    "edge_list = []\n",
    "for s, t, v in list(g_copy.edges(data=True)):\n",
    "    edge_list.append(((s, t), v['bc']))\n",
    "\n",
    "# Step 1: Create node mapping (string -> integer)\n",
    "node_to_idx = {}\n",
    "for (src, tgt), _ in edge_list:\n",
    "    if src not in node_to_idx:\n",
    "        node_to_idx[src] = len(node_to_idx)\n",
    "    if tgt not in node_to_idx:\n",
    "        node_to_idx[tgt] = len(node_to_idx)\n",
    "\n",
    "# Step 2: Extract edge index and features\n",
    "edge_index = []\n",
    "edge_attr = []\n",
    "\n",
    "for (src, tgt), feature in edge_list:\n",
    "    edge_index.append([node_to_idx[src], node_to_idx[tgt]])\n",
    "    edge_attr.append(feature)\n",
    "\n",
    "# Convert to torch tensors\n",
    "edge_index = torch.tensor(edge_index, dtype=torch.long).t()  # Shape: [2, num_edges]\n",
    "edge_attr = torch.tensor(edge_attr, dtype=torch.float)  # Shape: [num_edges, feature_dim]\n",
    "\n",
    "# Create graph object\n",
    "graph = Data(edge_index=edge_index, edge_attr=edge_attr)\n",
    "\n",
    "# Print output\n",
    "print(graph)\n"
   ]
  },
  {
   "cell_type": "code",
   "execution_count": null,
   "metadata": {},
   "outputs": [],
   "source": []
  }
 ],
 "metadata": {
  "kernelspec": {
   "display_name": ".venv",
   "language": "python",
   "name": "python3"
  },
  "language_info": {
   "codemirror_mode": {
    "name": "ipython",
    "version": 3
   },
   "file_extension": ".py",
   "mimetype": "text/x-python",
   "name": "python",
   "nbconvert_exporter": "python",
   "pygments_lexer": "ipython3",
   "version": "3.12.6"
  }
 },
 "nbformat": 4,
 "nbformat_minor": 2
}
