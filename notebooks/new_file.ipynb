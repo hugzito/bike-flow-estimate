{
 "cells": [
  {
   "cell_type": "code",
   "execution_count": null,
   "metadata": {},
   "outputs": [],
   "source": [
    "# %%\n",
    "import osmnx as ox\n",
    "import networkx as nx\n",
    "import matplotlib.pyplot as plt\n",
    "import numpy as np\n",
    "import pandas as pd\n",
    "import geopandas as gpd\n",
    "import folium\n",
    "from folium import plugins\n",
    "from folium.plugins import HeatMap\n",
    "from shapely.geometry import Point, LineString, Polygon\n",
    "import shapely\n",
    "import momepy as mp \n",
    "import esda\n",
    "import seaborn as sns\n",
    "sns.set_theme()\n",
    "\n",
    "\n",
    "# %%\n",
    "# ### convert polygon to geodataframe\n",
    "# gdf = gpd.GeoDataFrame(index=[0], crs='EPSG:3857', geometry=[poly])\n",
    "# gdf = gdf.to_crs('EPSG:4326'); gdf = gdf['geometry'][0]\n",
    "\n",
    "\n",
    "# %%\n",
    "# oslo = ox.graph.graph_from_polygon(gdf, network_type='all', simplify=True)\n",
    "\n",
    "\n",
    "# %%\n",
    "lat, lon = 55.6867243, 12.5700724\n",
    "\n",
    "\n",
    "# %%\n",
    "def get_city_graph(lat, lon, dist, polygonize=False, plot = False):\n",
    "    g = ox.graph_from_point((lat, lon), dist=dist, network_type='bike', simplify=True, retain_all=False)\n",
    "    gdf = mp.nx_to_gdf(g)\n",
    "    edges = gdf[1].to_crs('EPSG:3857')\n",
    "    if polygonize:\n",
    "        linestrings = edges.geometry # our geopandas.GeoSeries of linestrings representing street network\n",
    "        collection = shapely.GeometryCollection(linestrings.array)  # combine to a single object\n",
    "        noded = shapely.node(collection)  # add missing nodes\n",
    "        polygonized = shapely.polygonize(noded.geoms)  # polygonize based on an array of noded parts\n",
    "        polygons = gpd.GeoSeries(polygonized.geoms)  # create a GeoSeries from parts\n",
    "        return g, edges, polygons\n",
    "    if plot:\n",
    "        ### plot the graph\n",
    "        fig, ax = ox.plot_graph(g, node_size=0, edge_linewidth=0.5, show=False, close=False)\n",
    "        edges.plot(ax=ax, linewidth=1, edgecolor='black')\n",
    "        plt.show()\n",
    "    return g, edges\n",
    "\n",
    "\n",
    "# %%\n",
    "g, edges = get_city_graph(lat, lon, 10000)\n",
    "\n",
    "\n",
    "# # %%\n",
    "# ### plot the graph\n",
    "fig, ax = ox.plot_graph(g, node_size=0, edge_linewidth=0.5, show=False, close=False)\n",
    "edges.plot(ax=ax, linewidth=1, edgecolor='black')\n",
    "\n",
    "\n",
    "# %%\n",
    "import nx_parallel as nxp\n",
    "import networkx as nx\n",
    "\n",
    "\n",
    "# %%\n",
    "\n",
    "# ebc = nxp.edge_betweenness_centrality(g, normalized=False, weight='length')\n",
    "\n",
    "\n",
    "# %%\n",
    "### carry weights over to line graph\n",
    "H = nx.line_graph(g)\n",
    "H.add_nodes_from((node, g.edges[node]) for node in H)\n"
   ]
  },
  {
   "cell_type": "code",
   "execution_count": null,
   "metadata": {},
   "outputs": [],
   "source": [
    "list(H.edges(data=True))[0]\n",
    "# len(list(H.nodes(data=True)))\n"
   ]
  },
  {
   "cell_type": "code",
   "execution_count": 4,
   "metadata": {},
   "outputs": [],
   "source": [
    "# %%\n",
    "for s, t, v in H.edges:\n",
    "    H.edges[(s, t, v)]['weight'] = g.edges[s]['length'] + g.edges[t]['length']\n"
   ]
  },
  {
   "cell_type": "code",
   "execution_count": 5,
   "metadata": {},
   "outputs": [],
   "source": [
    "ebc = dict(nxp.all_pairs_dijkstra_path(H, weight='weight', cutoff=1000))\n",
    "def calc_bc(shortest_paths, graph):\n",
    "    bc = {i : 0 for i in graph.nodes}\n",
    "    for node in graph.nodes:\n",
    "        for other_node in shortest_paths[node].keys():\n",
    "            path = shortest_paths[node][other_node]\n",
    "            for node_visited in path:\n",
    "                bc[node_visited] += 1\n",
    "    for node in bc.keys():\n",
    "        bc[node] /= len(graph.nodes)\n",
    "    return bc\n",
    "bc = calc_bc(ebc, H)\n"
   ]
  },
  {
   "cell_type": "code",
   "execution_count": 6,
   "metadata": {},
   "outputs": [],
   "source": [
    "bc = {k: v for k, v in sorted(bc.items(), key=lambda item: item[1], reverse=True)}\n"
   ]
  },
  {
   "cell_type": "code",
   "execution_count": 7,
   "metadata": {},
   "outputs": [],
   "source": [
    "### color edges in g by bc\n",
    "bc2 = {}\n",
    "for x, y, z in bc:\n",
    "    bc2[(x, y)] = bc[(x, y, z)]\n",
    "\n",
    "for (s, t), value in bc2.items():\n",
    "    for i in range(len(g[s][t])):\n",
    "        g[s][t][i]['bc'] = value\n"
   ]
  },
  {
   "cell_type": "code",
   "execution_count": null,
   "metadata": {},
   "outputs": [],
   "source": [
    "### scale bc\n",
    "cph = mp.nx_to_gdf(g)\n",
    "cph_edges = cph[1].to_crs('EPSG:3857')\n",
    "cph_edges['bc'] = cph_edges['bc'] / cph_edges['bc'].max()\n",
    "cph_edges['bc'] = np.log10(cph_edges['bc'])\n"
   ]
  },
  {
   "cell_type": "code",
   "execution_count": null,
   "metadata": {},
   "outputs": [],
   "source": [
    "# fig, ax = ox.plot_graph(g, node_size=0, edge_linewidth=0.5, show=False, close=False)\n",
    "cph_edges.plot(linewidth=1, column='bc', cmap='turbo', legend=True, figsize=(10, 10))\n",
    "### drop axes\n",
    "plt.axis('off')\n",
    "plt.show()\n"
   ]
  },
  {
   "cell_type": "code",
   "execution_count": null,
   "metadata": {},
   "outputs": [],
   "source": [
    "ebc = dict(nx.all_pairs_dijkstra_path(H, weight='weight', cutoff=500))\n",
    "def calc_bc(shortest_paths, graph):\n",
    "    bc = {i : 0 for i in graph.nodes}\n",
    "    for node in graph.nodes:\n",
    "        for other_node in shortest_paths[node].keys():\n",
    "            path = shortest_paths[node][other_node]\n",
    "            for node_visited in path:\n",
    "                bc[node_visited] += 1\n",
    "    for node in bc.keys():\n",
    "        bc[node] /= len(graph.nodes)\n",
    "    return bc\n",
    "bc = calc_bc(ebc, H)\n",
    "\n",
    "### color edges in g by bc\n",
    "bc2 = {}\n",
    "for x, y, z in bc:\n",
    "    bc2[(x, y)] = bc[(x, y, z)]\n",
    "\n",
    "for (s, t), value in bc2.items():\n",
    "    for i in range(len(g[s][t])):\n",
    "        g[s][t][i]['bc'] = value\n",
    "\n",
    "### scale bc\n",
    "cph = mp.nx_to_gdf(g)\n",
    "cph_edges = cph[1].to_crs('EPSG:3857')\n",
    "cph_edges['bc'] = cph_edges['bc'] / cph_edges['bc'].max()\n",
    "cph_edges['bc'] = np.log10(cph_edges['bc'])\n",
    "# fig, ax = ox.plot_graph(g, node_size=0, edge_linewidth=0.5, show=False, close=False)\n",
    "cph_edges.plot(linewidth=1, column='bc', cmap='turbo', legend=True, figsize=(10, 10))\n",
    "### drop axes\n",
    "plt.axis('off')\n",
    "plt.show()\n"
   ]
  }
 ],
 "metadata": {
  "kernelspec": {
   "display_name": ".venv",
   "language": "python",
   "name": "python3"
  },
  "language_info": {
   "codemirror_mode": {
    "name": "ipython",
    "version": 3
   },
   "file_extension": ".py",
   "mimetype": "text/x-python",
   "name": "python",
   "nbconvert_exporter": "python",
   "pygments_lexer": "ipython3",
   "version": "3.12.6"
  }
 },
 "nbformat": 4,
 "nbformat_minor": 2
}
