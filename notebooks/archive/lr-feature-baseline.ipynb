{
 "cells": [
  {
   "cell_type": "code",
   "execution_count": null,
   "metadata": {},
   "outputs": [],
   "source": [
    "import pandas as pd\n",
    "import numpy as np\n",
    "import os\n",
    "import sys\n",
    "from sklearn.linear_model import LogisticRegression\n",
    "from torch_geometric.data import Data\n",
    "from sklearn.model_selection import train_test_split\n",
    "from sklearn.metrics import accuracy_score, f1_score, confusion_matrix, classification_report\n",
    "import pickle\n",
    "import torch\n"
   ]
  },
  {
   "cell_type": "code",
   "execution_count": null,
   "metadata": {},
   "outputs": [],
   "source": [
    "with open('../data/graphs/5/linegraph_tg.pkl', 'rb') as f:\n",
    "    graph_data = pickle.load(f)\n",
    "\n",
    "bins = [int(i) for i in '400 800 1300 2100 3000 3700 4700 7020 9660'.split()]\n",
    "# bins = [int(i) for i in '3000'.split()]\n",
    "\n",
    "bins = torch.tensor(bins)\n"
   ]
  },
  {
   "cell_type": "code",
   "execution_count": null,
   "metadata": {},
   "outputs": [],
   "source": [
    "y = graph_data.y[graph_data.y > 0]\n",
    "x = graph_data.x[graph_data.y > 0].numpy()\n",
    "# x = x[:, 5].reshape(-1, 1)\n",
    "\n",
    "y = torch.bucketize(y, boundaries=bins).numpy()\n"
   ]
  },
  {
   "cell_type": "code",
   "execution_count": null,
   "metadata": {},
   "outputs": [],
   "source": [
    "X_train, X_test, y_train, y_test = train_test_split(x, y, test_size=0.3, random_state=42)\n",
    "X_valid, X_test, y_valid, y_test = train_test_split(X_test, y_test, test_size=0.5, random_state=42)\n",
    "print(f\"X_train shape: {X_train.shape}\")\n",
    "print(f\"X_valid shape: {X_valid.shape}\")\n",
    "print(f\"X_test shape: {X_test.shape}\")\n"
   ]
  },
  {
   "cell_type": "code",
   "execution_count": null,
   "metadata": {},
   "outputs": [],
   "source": [
    "# Create a Logistic Regression model\n",
    "model = LogisticRegression(max_iter=10000, solver='saga', random_state=42, multi_class='auto')\n",
    "# Fit the model on the training data\n",
    "model.fit(X_train, y_train)\n",
    "# Evaluate the model on the validation data\n",
    "valid_accuracy = model.score(X_valid, y_valid)\n",
    "\n",
    "print(confusion_matrix(y_valid, model.predict(X_valid)))\n",
    "print(f\"Validation accuracy: {valid_accuracy:.4f}\")\n",
    "\n",
    "print(classification_report(y_valid, model.predict(X_valid), zero_division=0))\n"
   ]
  },
  {
   "cell_type": "code",
   "execution_count": null,
   "metadata": {},
   "outputs": [],
   "source": []
  }
 ],
 "metadata": {
  "kernelspec": {
   "display_name": "py9",
   "language": "python",
   "name": "python3"
  },
  "language_info": {
   "codemirror_mode": {
    "name": "ipython",
    "version": 3
   },
   "file_extension": ".py",
   "mimetype": "text/x-python",
   "name": "python",
   "nbconvert_exporter": "python",
   "pygments_lexer": "ipython3",
   "version": "3.9.0"
  }
 },
 "nbformat": 4,
 "nbformat_minor": 2
}
