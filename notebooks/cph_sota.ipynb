{
 "cells": [
  {
   "metadata": {},
   "cell_type": "code",
   "outputs": [],
   "execution_count": null,
   "source": [
    "import pyproj.datadir\n",
    "\n",
    "pyproj.datadir.set_data_dir('/opt/homebrew/Cellar/proj/9.5.1/share/proj')"
   ],
   "id": "b7c82d4636cbb2a5"
  },
  {
   "metadata": {},
   "cell_type": "code",
   "outputs": [],
   "execution_count": null,
   "source": [
    "import osmnx as ox\n",
    "import networkx as nx\n",
    "import matplotlib.pyplot as plt\n",
    "import numpy as np\n",
    "import pandas as pd\n",
    "import geopandas as gpd\n",
    "import folium\n",
    "from folium import plugins\n",
    "from folium.plugins import HeatMap\n",
    "from shapely.geometry import Point, LineString, Polygon\n",
    "import shapely\n",
    "import momepy as mp\n",
    "import esda\n",
    "import seaborn as sns\n",
    "sns.set_theme()"
   ],
   "id": "46e0332c3ba570fe"
  },
  {
   "metadata": {},
   "cell_type": "code",
   "outputs": [],
   "execution_count": null,
   "source": "lat, lon = 55.6867243, 12.5700724",
   "id": "a08d53dfe7064ffd"
  },
  {
   "metadata": {},
   "cell_type": "code",
   "outputs": [],
   "execution_count": null,
   "source": [
    "def get_city_graph(lat, lon, dist, polygonize=False, plot = False):\n",
    "    g = ox.graph_from_point((lat, lon), dist=dist, network_type='bike', simplify=True, retain_all=False)\n",
    "    gdf = mp.nx_to_gdf(g)\n",
    "    edges = gdf[1].to_crs('EPSG:3857')\n",
    "    if polygonize:\n",
    "        linestrings = edges.geometry # our geopandas.GeoSeries of linestrings representing street network\n",
    "        collection = shapely.GeometryCollection(linestrings.array)  # combine to a single object\n",
    "        noded = shapely.node(collection)  # add missing nodes\n",
    "        polygonized = shapely.polygonize(noded.geoms)  # polygonize based on an array of noded parts\n",
    "        polygons = gpd.GeoSeries(polygonized.geoms)  # create a GeoSeries from parts\n",
    "        return g, edges, polygons\n",
    "    if plot:\n",
    "        ### plot the graph\n",
    "        fig, ax = ox.plot_graph(g, node_size=0, edge_linewidth=0.5, show=False, close=False)\n",
    "        edges.plot(ax=ax, linewidth=1, edgecolor='black')\n",
    "        plt.show()\n",
    "    return g, edges"
   ],
   "id": "82f6bb79432ec5ba"
  },
  {
   "metadata": {},
   "cell_type": "code",
   "outputs": [],
   "execution_count": null,
   "source": "g, edges = get_city_graph(lat, lon, 10000)",
   "id": "f99eb30848582e64"
  },
  {
   "metadata": {},
   "cell_type": "code",
   "outputs": [],
   "execution_count": null,
   "source": [
    "fig, ax = ox.plot_graph(g, node_size=0, edge_linewidth=0.5, show=False, close=False)\n",
    "edges.plot(ax=ax, linewidth=1, edgecolor='black')"
   ],
   "id": "1c056221a9538124"
  },
  {
   "metadata": {},
   "cell_type": "code",
   "outputs": [],
   "execution_count": null,
   "source": [
    "### carry weights over to line graph\n",
    "H = nx.line_graph(g)\n",
    "H.add_nodes_from((node, g.edges[node]) for node in H)"
   ],
   "id": "cfce601b66e6e7b1"
  },
  {
   "metadata": {},
   "cell_type": "code",
   "outputs": [],
   "execution_count": null,
   "source": [
    "for s, t, v in H.edges:\n",
    "    H.edges[(s, t, v)]['weight'] = g.edges[s]['length'] + g.edges[t]['length']"
   ],
   "id": "5f1bdbbf678ad48f"
  },
  {
   "metadata": {},
   "cell_type": "code",
   "outputs": [],
   "execution_count": null,
   "source": [
    "ebc = dict(nx.all_pairs_dijkstra_path(H, weight='weight', cutoff=1000))\n",
    "def calc_bc(shortest_paths, graph):\n",
    "    bc = {i : 0 for i in graph.nodes}\n",
    "    for node in graph.nodes:\n",
    "        for other_node in shortest_paths[node].keys():\n",
    "            path = shortest_paths[node][other_node]\n",
    "            for node_visited in path:\n",
    "                bc[node_visited] += 1\n",
    "    for node in bc.keys():\n",
    "        bc[node] /= len(graph.nodes)\n",
    "    return bc\n",
    "bc = calc_bc(ebc, H)"
   ],
   "id": "56decbc1f42388f5"
  },
  {
   "metadata": {},
   "cell_type": "code",
   "outputs": [],
   "execution_count": null,
   "source": "bc = {k: v for k, v in sorted(bc.items(), key=lambda item: item[1], reverse=True)}",
   "id": "7e9493e7d2a2fc9f"
  },
  {
   "metadata": {},
   "cell_type": "code",
   "outputs": [],
   "execution_count": null,
   "source": [
    "### color edges in g by bc\n",
    "bc2 = {}\n",
    "for x, y, z in bc:\n",
    "    bc2[(x, y)] = bc[(x, y, z)]\n",
    "\n",
    "for (s, t), value in bc2.items():\n",
    "    for i in range(len(g[s][t])):\n",
    "        g[s][t][i]['bc'] = value"
   ],
   "id": "edbac12a5eb07d4a"
  },
  {
   "metadata": {},
   "cell_type": "code",
   "outputs": [],
   "execution_count": null,
   "source": [
    "### scale bc\n",
    "cph = mp.nx_to_gdf(g)\n",
    "cph_edges = cph[1].to_crs('EPSG:3857')\n",
    "cph_edges['bc'] = cph_edges['bc'] / cph_edges['bc'].max()\n",
    "cph_edges['bc'] = np.log10(cph_edges['bc'])"
   ],
   "id": "9e40f34dd1b79f04"
  },
  {
   "metadata": {},
   "cell_type": "code",
   "outputs": [],
   "execution_count": null,
   "source": "",
   "id": "e09de787b37d9c00"
  }
 ],
 "metadata": {},
 "nbformat": 5,
 "nbformat_minor": 9
}
