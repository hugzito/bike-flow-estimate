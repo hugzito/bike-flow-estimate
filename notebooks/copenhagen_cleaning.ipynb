{
 "cells": [
  {
   "cell_type": "markdown",
   "metadata": {},
   "source": [
    "## Cleaning notebook for copenhagen data\n",
    "\n",
    "Should take the data in format from (insert url) and return set of points with (lat, long) pairs so we can assign them to the edges by their linestrings. \n",
    "\n",
    "#### Create 2 files (if possible)\n",
    "- daily \n",
    "- hourly"
   ]
  },
  {
   "cell_type": "code",
   "execution_count": 11,
   "metadata": {},
   "outputs": [],
   "source": [
    "import geopandas as gpd \n",
    "import pandas as pd \n",
    "\n",
    "filepath = '/Users/christianrasmussen/Documents/thesis/bike-flow-estimate/data/raw/trafiktaelling.json'\n",
    "\n",
    "gdf = gpd.GeoDataFrame.from_file(filepath)\n",
    "gdf.set_crs(epsg=4326, inplace=True)\n",
    "gdf['geometry'] = gdf['geometry'].to_crs(epsg=4326)\n",
    "\n",
    "### export only relevant columns\n",
    "gdf_new = gdf[['id', 'vejnavn', 'geometry', 'aadt_cykler']]\n"
   ]
  },
  {
   "cell_type": "code",
   "execution_count": null,
   "metadata": {},
   "outputs": [],
   "source": [
    "### export to csv\n",
    "\n",
    "gdf_new.to_csv('/Users/christianrasmussen/Documents/thesis/bike-flow-estimate/data/clean/trafiktaelling.csv', index=False)\n"
   ]
  },
  {
   "cell_type": "code",
   "execution_count": null,
   "metadata": {},
   "outputs": [],
   "source": []
  }
 ],
 "metadata": {
  "kernelspec": {
   "display_name": ".venv",
   "language": "python",
   "name": "python3"
  },
  "language_info": {
   "codemirror_mode": {
    "name": "ipython",
    "version": 3
   },
   "file_extension": ".py",
   "mimetype": "text/x-python",
   "name": "python",
   "nbconvert_exporter": "python",
   "pygments_lexer": "ipython3",
   "version": "3.12.6"
  }
 },
 "nbformat": 4,
 "nbformat_minor": 2
}
