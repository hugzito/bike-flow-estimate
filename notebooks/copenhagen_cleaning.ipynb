{
 "cells": [
  {
   "metadata": {
    "ExecuteTime": {
     "end_time": "2025-02-05T10:07:15.329620Z",
     "start_time": "2025-02-05T10:07:15.326192Z"
    }
   },
   "cell_type": "code",
   "source": [
    "### needed for manuel\n",
    "import pyproj.datadir\n",
    "pyproj.datadir.set_data_dir('/opt/homebrew/Cellar/proj/9.5.1/share/proj')"
   ],
   "outputs": [],
   "execution_count": 5
  },
  {
   "metadata": {},
   "cell_type": "markdown",
   "source": [
    "## Cleaning notebook for copenhagen data\n",
    "\n",
    "Should take the data in format from (insert url) and return set of points with (lat, long) pairs so we can assign them to the edges by their linestrings.\n",
    "\n",
    "#### Create 2 files (if possible)\n",
    "- daily\n",
    "- hourly"
   ]
  },
  {
   "metadata": {
    "ExecuteTime": {
     "end_time": "2025-02-05T10:17:56.294658Z",
     "start_time": "2025-02-05T10:17:56.231581Z"
    }
   },
   "cell_type": "code",
   "source": [
    "import geopandas as gpd\n",
    "import pandas as pd\n",
    "\n",
    "filepath = '/Users/manuel/Documents/Semester 4/Master_Thesis/Thesis_Repo/data/raw/trafiktaelling.json'\n",
    "\n",
    "gdf = gpd.GeoDataFrame.from_file(filepath)\n",
    "gdf.set_crs(epsg=4326, inplace=True)\n",
    "gdf['geometry'] = gdf['geometry'].to_crs(epsg=4326)\n",
    "\n",
    "### export only relevant columns\n",
    "gdf_new = gdf[['id', 'vejnavn', 'geometry', 'aadt_cykler']]"
   ],
   "outputs": [],
   "execution_count": 26
  },
  {
   "metadata": {
    "ExecuteTime": {
     "end_time": "2025-02-05T10:27:01.780005Z",
     "start_time": "2025-02-05T10:27:01.766571Z"
    }
   },
   "cell_type": "code",
   "source": [
    "### export to csv\n",
    "\n",
    "gdf_new.to_csv('/Users/manuel/Documents/Semester 4/Master_Thesis/Thesis_Repo/data/clean/trafiktaelling.csv', index=False)\n"
   ],
   "outputs": [],
   "execution_count": 33
  }
 ],
 "metadata": {
  "kernelspec": {
   "display_name": ".venv",
   "language": "python",
   "name": "python3"
  },
  "language_info": {
   "codemirror_mode": {
    "name": "ipython",
    "version": 3
   },
   "file_extension": ".py",
   "mimetype": "text/x-python",
   "name": "python",
   "nbconvert_exporter": "python",
   "pygments_lexer": "ipython3",
   "version": "3.12.6"
  }
 },
 "nbformat": 4,
 "nbformat_minor": 2
}
