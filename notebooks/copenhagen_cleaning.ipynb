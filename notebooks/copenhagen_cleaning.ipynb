{
 "cells": [
  {
   "metadata": {
    "ExecuteTime": {
     "end_time": "2025-02-05T10:37:16.142709Z",
     "start_time": "2025-02-05T10:37:16.139259Z"
    }
   },
   "cell_type": "code",
   "source": [
    "### needed for manuel\n",
    "import pyproj.datadir\n",
    "pyproj.datadir.set_data_dir('/opt/homebrew/Cellar/proj/9.5.1/share/proj')"
   ],
   "outputs": [],
   "execution_count": 36
  },
  {
   "metadata": {},
   "cell_type": "markdown",
   "source": [
    "## Cleaning notebook for copenhagen data\n",
    "\n",
    "Should take the data in format from (insert url) and return set of points with (lat, long) pairs so we can assign them to the edges by their linestrings.\n",
    "\n",
    "#### Create 2 files (if possible, at this point only daily average)\n",
    "- daily\n",
    "- hourly"
   ]
  },
  {
   "metadata": {
    "ExecuteTime": {
     "end_time": "2025-02-05T10:37:16.212240Z",
     "start_time": "2025-02-05T10:37:16.152097Z"
    }
   },
   "cell_type": "code",
   "source": [
    "import geopandas as gpd\n",
    "import pandas as pd\n",
    "\n",
  "bike-counter-cleaning"
    "filepath = '/Users/christianrasmussen/Documents/thesis/bike-flow-estimate/data/raw/trafiktaelling.json' ### json from: https://www.opendata.dk/city-of-copenhagen/trafiktal\n",
   "main"
    "\n",
    "gdf = gpd.GeoDataFrame.from_file(filepath)\n",
    "gdf.set_crs(epsg=4326, inplace=True)\n",
    "gdf['geometry'] = gdf['geometry'].to_crs(epsg=4326)\n",
    "\n",
    "### export only relevant columns\n",
    "gdf_new = gdf[['id', 'vejnavn', 'geometry', 'aadt_cykler']]"
   ],
   "outputs": [],
   "execution_count": 37
  },
  {
   "metadata": {
    "ExecuteTime": {
     "end_time": "2025-02-05T10:37:16.227302Z",
     "start_time": "2025-02-05T10:37:16.219737Z"
    }
   },
   "cell_type": "code",
   "source": [
    "### export to csv\n",
    "\n",
    "gdf_new.to_csv('/Users/manuel/Documents/Semester 4/Master_Thesis/Thesis_Repo/data/clean/trafiktaelling.csv', index=False)\n"
   ],
   "outputs": [],
   "execution_count": 38
  }
 ],
 "metadata": {
  "kernelspec": {
   "display_name": ".venv",
   "language": "python",
   "name": "python3"
  },
  "language_info": {
   "codemirror_mode": {
    "name": "ipython",
    "version": 3
   },
   "file_extension": ".py",
   "mimetype": "text/x-python",
   "name": "python",
   "nbconvert_exporter": "python",
   "pygments_lexer": "ipython3",
   "version": "3.12.6"
  }
 },
 "nbformat": 4,
 "nbformat_minor": 2
}
