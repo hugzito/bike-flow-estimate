{
 "cells": [
  {
   "cell_type": "code",
   "execution_count": null,
   "id": "84691ce4",
   "metadata": {},
   "outputs": [],
   "source": [
    "import sys\n",
    "sys.path.append(\"../scripts\")\n",
    "\n",
    "import os, torch\n",
    "from sklearn.model_selection import train_test_split\n",
    "import pickle\n",
    "import torch_geometric.transforms as T\n",
    "import numpy as np\n",
    "from torch_geometric.nn.models import Node2Vec\n",
    "from torch_geometric.data import DataLoader\n",
    "from torch_geometric.nn import MessagePassing\n",
    "from torch_geometric.data import Data\n",
    "from torch.nn import Linear\n",
    "import torch.nn.functional as F\n",
    "from torch_geometric.nn import GCNConv, GATConv\n",
    "GCNConv._orig_propagate = GCNConv.propagate\n",
    "import matplotlib.pyplot as plt\n",
    "from sklearn.preprocessing import StandardScaler\n",
    "from torch_geometric.explain import GNNExplainer, Explainer\n",
    "from models import *\n",
    "from tg_functions import *\n",
    "from bike_functions import *\n",
    "import torch_geometric as tg\n",
    "import pandas as pd\n",
    "import seaborn as sns\n",
    "\n",
    "graph_num = 17  # Replace with your graph number\n",
    "\n",
    "with open(f'../data/graphs/{graph_num}/linegraph_tg.pkl', 'rb') as f:\n",
    "    data = pickle.load(f)\n",
    "\n",
    "data.edge_index = data.edge_index.contiguous()\n",
    "data.x = data.x.contiguous()\n",
    "data.y = data.y.contiguous()\n",
    "\n",
    "# data = stratified_split(data = data , random_seed = random_seed)\n",
    "\n",
    "H = tg.utils.to_networkx(data, to_undirected=True)\n",
    "\n",
    "# Degree Distribution Plot\n",
    "plt.figure(figsize=(10, 6))\n",
    "sns.histplot([d for n, d in H.degree()], discrete=True)\n",
    "plt.title('Degree Distribution')\n",
    "plt.xlabel('Degree')\n",
    "plt.ylabel('Frequency')\n",
    "plt.grid()\n",
    "plt.show()\n",
    "\n",
    "# Create table for graph statistics\n",
    "df = pd.DataFrame()\n",
    "df['Graph Number'] = [graph_num]\n",
    "df['Number of Nodes'] = [data.num_nodes]\n",
    "df['Number of Edges'] = [data.num_edges]\n",
    "df['Average Degree'] = [data.num_edges / data.num_nodes]\n",
    "# Read feature table\n"
   ]
  },
  {
   "cell_type": "code",
   "execution_count": null,
   "id": "1233ddc6",
   "metadata": {},
   "outputs": [],
   "source": [
    "cols = data.feat_names\n",
    "df2 = pd.DataFrame(data.x.numpy(), columns=cols)\n",
    "## plot feature distributions\n",
    "for col in cols:\n",
    "    plt.figure(figsize=(10, 6))\n",
    "    sns.histplot(df2[col], kde=True)\n",
    "    plt.title(f'Distribution of {col}')\n",
    "    plt.xlabel(col)\n",
    "    plt.ylabel('Frequency')\n",
    "    plt.grid()\n",
    "    plt.show()"
   ]
  },
  {
   "cell_type": "code",
   "execution_count": null,
   "id": "6cb46ea4",
   "metadata": {},
   "outputs": [],
   "source": []
  }
 ],
 "metadata": {
  "kernelspec": {
   "display_name": "newpyg",
   "language": "python",
   "name": "python3"
  },
  "language_info": {
   "codemirror_mode": {
    "name": "ipython",
    "version": 3
   },
   "file_extension": ".py",
   "mimetype": "text/x-python",
   "name": "python",
   "nbconvert_exporter": "python",
   "pygments_lexer": "ipython3",
   "version": "3.11.0"
  }
 },
 "nbformat": 4,
 "nbformat_minor": 5
}
